{
  "nbformat": 4,
  "nbformat_minor": 0,
  "metadata": {
    "kernelspec": {
      "display_name": "Python 3",
      "language": "python",
      "name": "python3"
    },
    "language_info": {
      "codemirror_mode": {
        "name": "ipython",
        "version": 3
      },
      "file_extension": ".py",
      "mimetype": "text/x-python",
      "name": "python",
      "nbconvert_exporter": "python",
      "pygments_lexer": "ipython3",
      "version": "3.7.2"
    },
    "colab": {
      "name": "v_[homework]simple_embeddings.ipynb",
      "provenance": [],
      "collapsed_sections": [],
      "toc_visible": true
    },
    "widgets": {
      "application/vnd.jupyter.widget-state+json": {
        "1128fd531332412da615d8a616a714fc": {
          "model_module": "@jupyter-widgets/controls",
          "model_name": "HBoxModel",
          "model_module_version": "1.5.0",
          "state": {
            "_dom_classes": [],
            "_model_module": "@jupyter-widgets/controls",
            "_model_module_version": "1.5.0",
            "_model_name": "HBoxModel",
            "_view_count": null,
            "_view_module": "@jupyter-widgets/controls",
            "_view_module_version": "1.5.0",
            "_view_name": "HBoxView",
            "box_style": "",
            "children": [
              "IPY_MODEL_ccfd0fb69f5d4ca4bbf8dab9ad67a5a0",
              "IPY_MODEL_b4bbb7947181468d8bb2f34f1b94eba6",
              "IPY_MODEL_cb6817c3c4ee46ce85a6da545fd4294c"
            ],
            "layout": "IPY_MODEL_5faeb28a780a40b59ada187ca8a58257"
          }
        },
        "ccfd0fb69f5d4ca4bbf8dab9ad67a5a0": {
          "model_module": "@jupyter-widgets/controls",
          "model_name": "HTMLModel",
          "model_module_version": "1.5.0",
          "state": {
            "_dom_classes": [],
            "_model_module": "@jupyter-widgets/controls",
            "_model_module_version": "1.5.0",
            "_model_name": "HTMLModel",
            "_view_count": null,
            "_view_module": "@jupyter-widgets/controls",
            "_view_module_version": "1.5.0",
            "_view_name": "HTMLView",
            "description": "",
            "description_tooltip": null,
            "layout": "IPY_MODEL_381a9cec211c452095e99f0860e84f70",
            "placeholder": "​",
            "style": "IPY_MODEL_a8e297a4ef3845b48c82204a50e2f965",
            "value": " 27%"
          }
        },
        "b4bbb7947181468d8bb2f34f1b94eba6": {
          "model_module": "@jupyter-widgets/controls",
          "model_name": "FloatProgressModel",
          "model_module_version": "1.5.0",
          "state": {
            "_dom_classes": [],
            "_model_module": "@jupyter-widgets/controls",
            "_model_module_version": "1.5.0",
            "_model_name": "FloatProgressModel",
            "_view_count": null,
            "_view_module": "@jupyter-widgets/controls",
            "_view_module_version": "1.5.0",
            "_view_name": "ProgressView",
            "bar_style": "danger",
            "description": "",
            "description_tooltip": null,
            "layout": "IPY_MODEL_e74ec0aa30f3430fb7a8fad33d2fae7b",
            "max": 3760,
            "min": 0,
            "orientation": "horizontal",
            "style": "IPY_MODEL_b04118814c24452aa7be0bee3acea5ac",
            "value": 1000
          }
        },
        "cb6817c3c4ee46ce85a6da545fd4294c": {
          "model_module": "@jupyter-widgets/controls",
          "model_name": "HTMLModel",
          "model_module_version": "1.5.0",
          "state": {
            "_dom_classes": [],
            "_model_module": "@jupyter-widgets/controls",
            "_model_module_version": "1.5.0",
            "_model_name": "HTMLModel",
            "_view_count": null,
            "_view_module": "@jupyter-widgets/controls",
            "_view_module_version": "1.5.0",
            "_view_name": "HTMLView",
            "description": "",
            "description_tooltip": null,
            "layout": "IPY_MODEL_5b43a562528947c19937010279d0b0cf",
            "placeholder": "​",
            "style": "IPY_MODEL_ced1ba642e194bc2a67aec84da19ba8b",
            "value": " 1000/3760 [01:38&lt;04:40,  9.83it/s]"
          }
        },
        "5faeb28a780a40b59ada187ca8a58257": {
          "model_module": "@jupyter-widgets/base",
          "model_name": "LayoutModel",
          "model_module_version": "1.2.0",
          "state": {
            "_model_module": "@jupyter-widgets/base",
            "_model_module_version": "1.2.0",
            "_model_name": "LayoutModel",
            "_view_count": null,
            "_view_module": "@jupyter-widgets/base",
            "_view_module_version": "1.2.0",
            "_view_name": "LayoutView",
            "align_content": null,
            "align_items": null,
            "align_self": null,
            "border": null,
            "bottom": null,
            "display": null,
            "flex": null,
            "flex_flow": null,
            "grid_area": null,
            "grid_auto_columns": null,
            "grid_auto_flow": null,
            "grid_auto_rows": null,
            "grid_column": null,
            "grid_gap": null,
            "grid_row": null,
            "grid_template_areas": null,
            "grid_template_columns": null,
            "grid_template_rows": null,
            "height": null,
            "justify_content": null,
            "justify_items": null,
            "left": null,
            "margin": null,
            "max_height": null,
            "max_width": null,
            "min_height": null,
            "min_width": null,
            "object_fit": null,
            "object_position": null,
            "order": null,
            "overflow": null,
            "overflow_x": null,
            "overflow_y": null,
            "padding": null,
            "right": null,
            "top": null,
            "visibility": null,
            "width": null
          }
        },
        "381a9cec211c452095e99f0860e84f70": {
          "model_module": "@jupyter-widgets/base",
          "model_name": "LayoutModel",
          "model_module_version": "1.2.0",
          "state": {
            "_model_module": "@jupyter-widgets/base",
            "_model_module_version": "1.2.0",
            "_model_name": "LayoutModel",
            "_view_count": null,
            "_view_module": "@jupyter-widgets/base",
            "_view_module_version": "1.2.0",
            "_view_name": "LayoutView",
            "align_content": null,
            "align_items": null,
            "align_self": null,
            "border": null,
            "bottom": null,
            "display": null,
            "flex": null,
            "flex_flow": null,
            "grid_area": null,
            "grid_auto_columns": null,
            "grid_auto_flow": null,
            "grid_auto_rows": null,
            "grid_column": null,
            "grid_gap": null,
            "grid_row": null,
            "grid_template_areas": null,
            "grid_template_columns": null,
            "grid_template_rows": null,
            "height": null,
            "justify_content": null,
            "justify_items": null,
            "left": null,
            "margin": null,
            "max_height": null,
            "max_width": null,
            "min_height": null,
            "min_width": null,
            "object_fit": null,
            "object_position": null,
            "order": null,
            "overflow": null,
            "overflow_x": null,
            "overflow_y": null,
            "padding": null,
            "right": null,
            "top": null,
            "visibility": null,
            "width": null
          }
        },
        "a8e297a4ef3845b48c82204a50e2f965": {
          "model_module": "@jupyter-widgets/controls",
          "model_name": "DescriptionStyleModel",
          "model_module_version": "1.5.0",
          "state": {
            "_model_module": "@jupyter-widgets/controls",
            "_model_module_version": "1.5.0",
            "_model_name": "DescriptionStyleModel",
            "_view_count": null,
            "_view_module": "@jupyter-widgets/base",
            "_view_module_version": "1.2.0",
            "_view_name": "StyleView",
            "description_width": ""
          }
        },
        "e74ec0aa30f3430fb7a8fad33d2fae7b": {
          "model_module": "@jupyter-widgets/base",
          "model_name": "LayoutModel",
          "model_module_version": "1.2.0",
          "state": {
            "_model_module": "@jupyter-widgets/base",
            "_model_module_version": "1.2.0",
            "_model_name": "LayoutModel",
            "_view_count": null,
            "_view_module": "@jupyter-widgets/base",
            "_view_module_version": "1.2.0",
            "_view_name": "LayoutView",
            "align_content": null,
            "align_items": null,
            "align_self": null,
            "border": null,
            "bottom": null,
            "display": null,
            "flex": null,
            "flex_flow": null,
            "grid_area": null,
            "grid_auto_columns": null,
            "grid_auto_flow": null,
            "grid_auto_rows": null,
            "grid_column": null,
            "grid_gap": null,
            "grid_row": null,
            "grid_template_areas": null,
            "grid_template_columns": null,
            "grid_template_rows": null,
            "height": null,
            "justify_content": null,
            "justify_items": null,
            "left": null,
            "margin": null,
            "max_height": null,
            "max_width": null,
            "min_height": null,
            "min_width": null,
            "object_fit": null,
            "object_position": null,
            "order": null,
            "overflow": null,
            "overflow_x": null,
            "overflow_y": null,
            "padding": null,
            "right": null,
            "top": null,
            "visibility": null,
            "width": null
          }
        },
        "b04118814c24452aa7be0bee3acea5ac": {
          "model_module": "@jupyter-widgets/controls",
          "model_name": "ProgressStyleModel",
          "model_module_version": "1.5.0",
          "state": {
            "_model_module": "@jupyter-widgets/controls",
            "_model_module_version": "1.5.0",
            "_model_name": "ProgressStyleModel",
            "_view_count": null,
            "_view_module": "@jupyter-widgets/base",
            "_view_module_version": "1.2.0",
            "_view_name": "StyleView",
            "bar_color": null,
            "description_width": ""
          }
        },
        "5b43a562528947c19937010279d0b0cf": {
          "model_module": "@jupyter-widgets/base",
          "model_name": "LayoutModel",
          "model_module_version": "1.2.0",
          "state": {
            "_model_module": "@jupyter-widgets/base",
            "_model_module_version": "1.2.0",
            "_model_name": "LayoutModel",
            "_view_count": null,
            "_view_module": "@jupyter-widgets/base",
            "_view_module_version": "1.2.0",
            "_view_name": "LayoutView",
            "align_content": null,
            "align_items": null,
            "align_self": null,
            "border": null,
            "bottom": null,
            "display": null,
            "flex": null,
            "flex_flow": null,
            "grid_area": null,
            "grid_auto_columns": null,
            "grid_auto_flow": null,
            "grid_auto_rows": null,
            "grid_column": null,
            "grid_gap": null,
            "grid_row": null,
            "grid_template_areas": null,
            "grid_template_columns": null,
            "grid_template_rows": null,
            "height": null,
            "justify_content": null,
            "justify_items": null,
            "left": null,
            "margin": null,
            "max_height": null,
            "max_width": null,
            "min_height": null,
            "min_width": null,
            "object_fit": null,
            "object_position": null,
            "order": null,
            "overflow": null,
            "overflow_x": null,
            "overflow_y": null,
            "padding": null,
            "right": null,
            "top": null,
            "visibility": null,
            "width": null
          }
        },
        "ced1ba642e194bc2a67aec84da19ba8b": {
          "model_module": "@jupyter-widgets/controls",
          "model_name": "DescriptionStyleModel",
          "model_module_version": "1.5.0",
          "state": {
            "_model_module": "@jupyter-widgets/controls",
            "_model_module_version": "1.5.0",
            "_model_name": "DescriptionStyleModel",
            "_view_count": null,
            "_view_module": "@jupyter-widgets/base",
            "_view_module_version": "1.2.0",
            "_view_name": "StyleView",
            "description_width": ""
          }
        },
        "1290b7ab46404eb0a3be3c22d1d0bc1a": {
          "model_module": "@jupyter-widgets/controls",
          "model_name": "HBoxModel",
          "model_module_version": "1.5.0",
          "state": {
            "_dom_classes": [],
            "_model_module": "@jupyter-widgets/controls",
            "_model_module_version": "1.5.0",
            "_model_name": "HBoxModel",
            "_view_count": null,
            "_view_module": "@jupyter-widgets/controls",
            "_view_module_version": "1.5.0",
            "_view_name": "HBoxView",
            "box_style": "",
            "children": [
              "IPY_MODEL_f5e3cb768cd74d748f6e2a6d17027a48",
              "IPY_MODEL_c30f67a2cfd848f49915b1da2c9e7714",
              "IPY_MODEL_b517ba7ad52140589e10ab6dd7f0a58a"
            ],
            "layout": "IPY_MODEL_83dc5d2b202b4b5da96b246d085e438c"
          }
        },
        "f5e3cb768cd74d748f6e2a6d17027a48": {
          "model_module": "@jupyter-widgets/controls",
          "model_name": "HTMLModel",
          "model_module_version": "1.5.0",
          "state": {
            "_dom_classes": [],
            "_model_module": "@jupyter-widgets/controls",
            "_model_module_version": "1.5.0",
            "_model_name": "HTMLModel",
            "_view_count": null,
            "_view_module": "@jupyter-widgets/controls",
            "_view_module_version": "1.5.0",
            "_view_name": "HTMLView",
            "description": "",
            "description_tooltip": null,
            "layout": "IPY_MODEL_3a9f5a2f64964cdcab522b2e0909d3fe",
            "placeholder": "​",
            "style": "IPY_MODEL_a77006fd8c6a426eb9fc5ebbaf34d751",
            "value": "100%"
          }
        },
        "c30f67a2cfd848f49915b1da2c9e7714": {
          "model_module": "@jupyter-widgets/controls",
          "model_name": "FloatProgressModel",
          "model_module_version": "1.5.0",
          "state": {
            "_dom_classes": [],
            "_model_module": "@jupyter-widgets/controls",
            "_model_module_version": "1.5.0",
            "_model_name": "FloatProgressModel",
            "_view_count": null,
            "_view_module": "@jupyter-widgets/controls",
            "_view_module_version": "1.5.0",
            "_view_name": "ProgressView",
            "bar_style": "success",
            "description": "",
            "description_tooltip": null,
            "layout": "IPY_MODEL_0758970655354ec5a9978ed6a8ec1553",
            "max": 6,
            "min": 0,
            "orientation": "horizontal",
            "style": "IPY_MODEL_507e5504317a4663a96483bf704d98f2",
            "value": 6
          }
        },
        "b517ba7ad52140589e10ab6dd7f0a58a": {
          "model_module": "@jupyter-widgets/controls",
          "model_name": "HTMLModel",
          "model_module_version": "1.5.0",
          "state": {
            "_dom_classes": [],
            "_model_module": "@jupyter-widgets/controls",
            "_model_module_version": "1.5.0",
            "_model_name": "HTMLModel",
            "_view_count": null,
            "_view_module": "@jupyter-widgets/controls",
            "_view_module_version": "1.5.0",
            "_view_name": "HTMLView",
            "description": "",
            "description_tooltip": null,
            "layout": "IPY_MODEL_63976d1ba8914fc893ae3ab888226764",
            "placeholder": "​",
            "style": "IPY_MODEL_40716fb424b74b1bb04ef00e9494fa80",
            "value": " 6/6 [00:00&lt;00:00, 97.51it/s]"
          }
        },
        "83dc5d2b202b4b5da96b246d085e438c": {
          "model_module": "@jupyter-widgets/base",
          "model_name": "LayoutModel",
          "model_module_version": "1.2.0",
          "state": {
            "_model_module": "@jupyter-widgets/base",
            "_model_module_version": "1.2.0",
            "_model_name": "LayoutModel",
            "_view_count": null,
            "_view_module": "@jupyter-widgets/base",
            "_view_module_version": "1.2.0",
            "_view_name": "LayoutView",
            "align_content": null,
            "align_items": null,
            "align_self": null,
            "border": null,
            "bottom": null,
            "display": null,
            "flex": null,
            "flex_flow": null,
            "grid_area": null,
            "grid_auto_columns": null,
            "grid_auto_flow": null,
            "grid_auto_rows": null,
            "grid_column": null,
            "grid_gap": null,
            "grid_row": null,
            "grid_template_areas": null,
            "grid_template_columns": null,
            "grid_template_rows": null,
            "height": null,
            "justify_content": null,
            "justify_items": null,
            "left": null,
            "margin": null,
            "max_height": null,
            "max_width": null,
            "min_height": null,
            "min_width": null,
            "object_fit": null,
            "object_position": null,
            "order": null,
            "overflow": null,
            "overflow_x": null,
            "overflow_y": null,
            "padding": null,
            "right": null,
            "top": null,
            "visibility": null,
            "width": null
          }
        },
        "3a9f5a2f64964cdcab522b2e0909d3fe": {
          "model_module": "@jupyter-widgets/base",
          "model_name": "LayoutModel",
          "model_module_version": "1.2.0",
          "state": {
            "_model_module": "@jupyter-widgets/base",
            "_model_module_version": "1.2.0",
            "_model_name": "LayoutModel",
            "_view_count": null,
            "_view_module": "@jupyter-widgets/base",
            "_view_module_version": "1.2.0",
            "_view_name": "LayoutView",
            "align_content": null,
            "align_items": null,
            "align_self": null,
            "border": null,
            "bottom": null,
            "display": null,
            "flex": null,
            "flex_flow": null,
            "grid_area": null,
            "grid_auto_columns": null,
            "grid_auto_flow": null,
            "grid_auto_rows": null,
            "grid_column": null,
            "grid_gap": null,
            "grid_row": null,
            "grid_template_areas": null,
            "grid_template_columns": null,
            "grid_template_rows": null,
            "height": null,
            "justify_content": null,
            "justify_items": null,
            "left": null,
            "margin": null,
            "max_height": null,
            "max_width": null,
            "min_height": null,
            "min_width": null,
            "object_fit": null,
            "object_position": null,
            "order": null,
            "overflow": null,
            "overflow_x": null,
            "overflow_y": null,
            "padding": null,
            "right": null,
            "top": null,
            "visibility": null,
            "width": null
          }
        },
        "a77006fd8c6a426eb9fc5ebbaf34d751": {
          "model_module": "@jupyter-widgets/controls",
          "model_name": "DescriptionStyleModel",
          "model_module_version": "1.5.0",
          "state": {
            "_model_module": "@jupyter-widgets/controls",
            "_model_module_version": "1.5.0",
            "_model_name": "DescriptionStyleModel",
            "_view_count": null,
            "_view_module": "@jupyter-widgets/base",
            "_view_module_version": "1.2.0",
            "_view_name": "StyleView",
            "description_width": ""
          }
        },
        "0758970655354ec5a9978ed6a8ec1553": {
          "model_module": "@jupyter-widgets/base",
          "model_name": "LayoutModel",
          "model_module_version": "1.2.0",
          "state": {
            "_model_module": "@jupyter-widgets/base",
            "_model_module_version": "1.2.0",
            "_model_name": "LayoutModel",
            "_view_count": null,
            "_view_module": "@jupyter-widgets/base",
            "_view_module_version": "1.2.0",
            "_view_name": "LayoutView",
            "align_content": null,
            "align_items": null,
            "align_self": null,
            "border": null,
            "bottom": null,
            "display": null,
            "flex": null,
            "flex_flow": null,
            "grid_area": null,
            "grid_auto_columns": null,
            "grid_auto_flow": null,
            "grid_auto_rows": null,
            "grid_column": null,
            "grid_gap": null,
            "grid_row": null,
            "grid_template_areas": null,
            "grid_template_columns": null,
            "grid_template_rows": null,
            "height": null,
            "justify_content": null,
            "justify_items": null,
            "left": null,
            "margin": null,
            "max_height": null,
            "max_width": null,
            "min_height": null,
            "min_width": null,
            "object_fit": null,
            "object_position": null,
            "order": null,
            "overflow": null,
            "overflow_x": null,
            "overflow_y": null,
            "padding": null,
            "right": null,
            "top": null,
            "visibility": null,
            "width": null
          }
        },
        "507e5504317a4663a96483bf704d98f2": {
          "model_module": "@jupyter-widgets/controls",
          "model_name": "ProgressStyleModel",
          "model_module_version": "1.5.0",
          "state": {
            "_model_module": "@jupyter-widgets/controls",
            "_model_module_version": "1.5.0",
            "_model_name": "ProgressStyleModel",
            "_view_count": null,
            "_view_module": "@jupyter-widgets/base",
            "_view_module_version": "1.2.0",
            "_view_name": "StyleView",
            "bar_color": null,
            "description_width": ""
          }
        },
        "63976d1ba8914fc893ae3ab888226764": {
          "model_module": "@jupyter-widgets/base",
          "model_name": "LayoutModel",
          "model_module_version": "1.2.0",
          "state": {
            "_model_module": "@jupyter-widgets/base",
            "_model_module_version": "1.2.0",
            "_model_name": "LayoutModel",
            "_view_count": null,
            "_view_module": "@jupyter-widgets/base",
            "_view_module_version": "1.2.0",
            "_view_name": "LayoutView",
            "align_content": null,
            "align_items": null,
            "align_self": null,
            "border": null,
            "bottom": null,
            "display": null,
            "flex": null,
            "flex_flow": null,
            "grid_area": null,
            "grid_auto_columns": null,
            "grid_auto_flow": null,
            "grid_auto_rows": null,
            "grid_column": null,
            "grid_gap": null,
            "grid_row": null,
            "grid_template_areas": null,
            "grid_template_columns": null,
            "grid_template_rows": null,
            "height": null,
            "justify_content": null,
            "justify_items": null,
            "left": null,
            "margin": null,
            "max_height": null,
            "max_width": null,
            "min_height": null,
            "min_width": null,
            "object_fit": null,
            "object_position": null,
            "order": null,
            "overflow": null,
            "overflow_x": null,
            "overflow_y": null,
            "padding": null,
            "right": null,
            "top": null,
            "visibility": null,
            "width": null
          }
        },
        "40716fb424b74b1bb04ef00e9494fa80": {
          "model_module": "@jupyter-widgets/controls",
          "model_name": "DescriptionStyleModel",
          "model_module_version": "1.5.0",
          "state": {
            "_model_module": "@jupyter-widgets/controls",
            "_model_module_version": "1.5.0",
            "_model_name": "DescriptionStyleModel",
            "_view_count": null,
            "_view_module": "@jupyter-widgets/base",
            "_view_module_version": "1.2.0",
            "_view_name": "StyleView",
            "description_width": ""
          }
        },
        "22cfe39b59284a3eb82f76d8a25bfe96": {
          "model_module": "@jupyter-widgets/controls",
          "model_name": "HBoxModel",
          "model_module_version": "1.5.0",
          "state": {
            "_dom_classes": [],
            "_model_module": "@jupyter-widgets/controls",
            "_model_module_version": "1.5.0",
            "_model_name": "HBoxModel",
            "_view_count": null,
            "_view_module": "@jupyter-widgets/controls",
            "_view_module_version": "1.5.0",
            "_view_name": "HBoxView",
            "box_style": "",
            "children": [
              "IPY_MODEL_0c34be4190c745bdb185661e3cfc5e8a",
              "IPY_MODEL_5289b6f3e03a401b83f14ed4de72b5ae",
              "IPY_MODEL_ce3756c23def40c8ae5f9a80cb6bc5d3"
            ],
            "layout": "IPY_MODEL_6a596c49012a414f9b22aa74591ddc08"
          }
        },
        "0c34be4190c745bdb185661e3cfc5e8a": {
          "model_module": "@jupyter-widgets/controls",
          "model_name": "HTMLModel",
          "model_module_version": "1.5.0",
          "state": {
            "_dom_classes": [],
            "_model_module": "@jupyter-widgets/controls",
            "_model_module_version": "1.5.0",
            "_model_name": "HTMLModel",
            "_view_count": null,
            "_view_module": "@jupyter-widgets/controls",
            "_view_module_version": "1.5.0",
            "_view_name": "HTMLView",
            "description": "",
            "description_tooltip": null,
            "layout": "IPY_MODEL_a773d4e720784ec2a40acedb8d2af80e",
            "placeholder": "​",
            "style": "IPY_MODEL_37c24915f52b4d9ca73a9b3555a669c1",
            "value": " 27%"
          }
        },
        "5289b6f3e03a401b83f14ed4de72b5ae": {
          "model_module": "@jupyter-widgets/controls",
          "model_name": "FloatProgressModel",
          "model_module_version": "1.5.0",
          "state": {
            "_dom_classes": [],
            "_model_module": "@jupyter-widgets/controls",
            "_model_module_version": "1.5.0",
            "_model_name": "FloatProgressModel",
            "_view_count": null,
            "_view_module": "@jupyter-widgets/controls",
            "_view_module_version": "1.5.0",
            "_view_name": "ProgressView",
            "bar_style": "danger",
            "description": "",
            "description_tooltip": null,
            "layout": "IPY_MODEL_e67b554ddfe3490d88d022f0fe6abbca",
            "max": 3760,
            "min": 0,
            "orientation": "horizontal",
            "style": "IPY_MODEL_c4e0ac8092404c1b8feb0849041d6370",
            "value": 1000
          }
        },
        "ce3756c23def40c8ae5f9a80cb6bc5d3": {
          "model_module": "@jupyter-widgets/controls",
          "model_name": "HTMLModel",
          "model_module_version": "1.5.0",
          "state": {
            "_dom_classes": [],
            "_model_module": "@jupyter-widgets/controls",
            "_model_module_version": "1.5.0",
            "_model_name": "HTMLModel",
            "_view_count": null,
            "_view_module": "@jupyter-widgets/controls",
            "_view_module_version": "1.5.0",
            "_view_name": "HTMLView",
            "description": "",
            "description_tooltip": null,
            "layout": "IPY_MODEL_2c787d51a00046c3af0fd30c2af83b53",
            "placeholder": "​",
            "style": "IPY_MODEL_551ce2f39b3c4773872f349089522e17",
            "value": " 1000/3760 [01:32&lt;04:24, 10.45it/s]"
          }
        },
        "6a596c49012a414f9b22aa74591ddc08": {
          "model_module": "@jupyter-widgets/base",
          "model_name": "LayoutModel",
          "model_module_version": "1.2.0",
          "state": {
            "_model_module": "@jupyter-widgets/base",
            "_model_module_version": "1.2.0",
            "_model_name": "LayoutModel",
            "_view_count": null,
            "_view_module": "@jupyter-widgets/base",
            "_view_module_version": "1.2.0",
            "_view_name": "LayoutView",
            "align_content": null,
            "align_items": null,
            "align_self": null,
            "border": null,
            "bottom": null,
            "display": null,
            "flex": null,
            "flex_flow": null,
            "grid_area": null,
            "grid_auto_columns": null,
            "grid_auto_flow": null,
            "grid_auto_rows": null,
            "grid_column": null,
            "grid_gap": null,
            "grid_row": null,
            "grid_template_areas": null,
            "grid_template_columns": null,
            "grid_template_rows": null,
            "height": null,
            "justify_content": null,
            "justify_items": null,
            "left": null,
            "margin": null,
            "max_height": null,
            "max_width": null,
            "min_height": null,
            "min_width": null,
            "object_fit": null,
            "object_position": null,
            "order": null,
            "overflow": null,
            "overflow_x": null,
            "overflow_y": null,
            "padding": null,
            "right": null,
            "top": null,
            "visibility": null,
            "width": null
          }
        },
        "a773d4e720784ec2a40acedb8d2af80e": {
          "model_module": "@jupyter-widgets/base",
          "model_name": "LayoutModel",
          "model_module_version": "1.2.0",
          "state": {
            "_model_module": "@jupyter-widgets/base",
            "_model_module_version": "1.2.0",
            "_model_name": "LayoutModel",
            "_view_count": null,
            "_view_module": "@jupyter-widgets/base",
            "_view_module_version": "1.2.0",
            "_view_name": "LayoutView",
            "align_content": null,
            "align_items": null,
            "align_self": null,
            "border": null,
            "bottom": null,
            "display": null,
            "flex": null,
            "flex_flow": null,
            "grid_area": null,
            "grid_auto_columns": null,
            "grid_auto_flow": null,
            "grid_auto_rows": null,
            "grid_column": null,
            "grid_gap": null,
            "grid_row": null,
            "grid_template_areas": null,
            "grid_template_columns": null,
            "grid_template_rows": null,
            "height": null,
            "justify_content": null,
            "justify_items": null,
            "left": null,
            "margin": null,
            "max_height": null,
            "max_width": null,
            "min_height": null,
            "min_width": null,
            "object_fit": null,
            "object_position": null,
            "order": null,
            "overflow": null,
            "overflow_x": null,
            "overflow_y": null,
            "padding": null,
            "right": null,
            "top": null,
            "visibility": null,
            "width": null
          }
        },
        "37c24915f52b4d9ca73a9b3555a669c1": {
          "model_module": "@jupyter-widgets/controls",
          "model_name": "DescriptionStyleModel",
          "model_module_version": "1.5.0",
          "state": {
            "_model_module": "@jupyter-widgets/controls",
            "_model_module_version": "1.5.0",
            "_model_name": "DescriptionStyleModel",
            "_view_count": null,
            "_view_module": "@jupyter-widgets/base",
            "_view_module_version": "1.2.0",
            "_view_name": "StyleView",
            "description_width": ""
          }
        },
        "e67b554ddfe3490d88d022f0fe6abbca": {
          "model_module": "@jupyter-widgets/base",
          "model_name": "LayoutModel",
          "model_module_version": "1.2.0",
          "state": {
            "_model_module": "@jupyter-widgets/base",
            "_model_module_version": "1.2.0",
            "_model_name": "LayoutModel",
            "_view_count": null,
            "_view_module": "@jupyter-widgets/base",
            "_view_module_version": "1.2.0",
            "_view_name": "LayoutView",
            "align_content": null,
            "align_items": null,
            "align_self": null,
            "border": null,
            "bottom": null,
            "display": null,
            "flex": null,
            "flex_flow": null,
            "grid_area": null,
            "grid_auto_columns": null,
            "grid_auto_flow": null,
            "grid_auto_rows": null,
            "grid_column": null,
            "grid_gap": null,
            "grid_row": null,
            "grid_template_areas": null,
            "grid_template_columns": null,
            "grid_template_rows": null,
            "height": null,
            "justify_content": null,
            "justify_items": null,
            "left": null,
            "margin": null,
            "max_height": null,
            "max_width": null,
            "min_height": null,
            "min_width": null,
            "object_fit": null,
            "object_position": null,
            "order": null,
            "overflow": null,
            "overflow_x": null,
            "overflow_y": null,
            "padding": null,
            "right": null,
            "top": null,
            "visibility": null,
            "width": null
          }
        },
        "c4e0ac8092404c1b8feb0849041d6370": {
          "model_module": "@jupyter-widgets/controls",
          "model_name": "ProgressStyleModel",
          "model_module_version": "1.5.0",
          "state": {
            "_model_module": "@jupyter-widgets/controls",
            "_model_module_version": "1.5.0",
            "_model_name": "ProgressStyleModel",
            "_view_count": null,
            "_view_module": "@jupyter-widgets/base",
            "_view_module_version": "1.2.0",
            "_view_name": "StyleView",
            "bar_color": null,
            "description_width": ""
          }
        },
        "2c787d51a00046c3af0fd30c2af83b53": {
          "model_module": "@jupyter-widgets/base",
          "model_name": "LayoutModel",
          "model_module_version": "1.2.0",
          "state": {
            "_model_module": "@jupyter-widgets/base",
            "_model_module_version": "1.2.0",
            "_model_name": "LayoutModel",
            "_view_count": null,
            "_view_module": "@jupyter-widgets/base",
            "_view_module_version": "1.2.0",
            "_view_name": "LayoutView",
            "align_content": null,
            "align_items": null,
            "align_self": null,
            "border": null,
            "bottom": null,
            "display": null,
            "flex": null,
            "flex_flow": null,
            "grid_area": null,
            "grid_auto_columns": null,
            "grid_auto_flow": null,
            "grid_auto_rows": null,
            "grid_column": null,
            "grid_gap": null,
            "grid_row": null,
            "grid_template_areas": null,
            "grid_template_columns": null,
            "grid_template_rows": null,
            "height": null,
            "justify_content": null,
            "justify_items": null,
            "left": null,
            "margin": null,
            "max_height": null,
            "max_width": null,
            "min_height": null,
            "min_width": null,
            "object_fit": null,
            "object_position": null,
            "order": null,
            "overflow": null,
            "overflow_x": null,
            "overflow_y": null,
            "padding": null,
            "right": null,
            "top": null,
            "visibility": null,
            "width": null
          }
        },
        "551ce2f39b3c4773872f349089522e17": {
          "model_module": "@jupyter-widgets/controls",
          "model_name": "DescriptionStyleModel",
          "model_module_version": "1.5.0",
          "state": {
            "_model_module": "@jupyter-widgets/controls",
            "_model_module_version": "1.5.0",
            "_model_name": "DescriptionStyleModel",
            "_view_count": null,
            "_view_module": "@jupyter-widgets/base",
            "_view_module_version": "1.2.0",
            "_view_name": "StyleView",
            "description_width": ""
          }
        },
        "5621d0dacb10486ab9112b34fe28d210": {
          "model_module": "@jupyter-widgets/controls",
          "model_name": "HBoxModel",
          "model_module_version": "1.5.0",
          "state": {
            "_dom_classes": [],
            "_model_module": "@jupyter-widgets/controls",
            "_model_module_version": "1.5.0",
            "_model_name": "HBoxModel",
            "_view_count": null,
            "_view_module": "@jupyter-widgets/controls",
            "_view_module_version": "1.5.0",
            "_view_name": "HBoxView",
            "box_style": "",
            "children": [
              "IPY_MODEL_4e3272b835944ae2995717e3a9d40777",
              "IPY_MODEL_830f7c6eec734061b6a970791c67994a",
              "IPY_MODEL_c6938d44a0314bd1aae0d30ffa904149"
            ],
            "layout": "IPY_MODEL_67f2708ab9c344b2827e6124834bc853"
          }
        },
        "4e3272b835944ae2995717e3a9d40777": {
          "model_module": "@jupyter-widgets/controls",
          "model_name": "HTMLModel",
          "model_module_version": "1.5.0",
          "state": {
            "_dom_classes": [],
            "_model_module": "@jupyter-widgets/controls",
            "_model_module_version": "1.5.0",
            "_model_name": "HTMLModel",
            "_view_count": null,
            "_view_module": "@jupyter-widgets/controls",
            "_view_module_version": "1.5.0",
            "_view_name": "HTMLView",
            "description": "",
            "description_tooltip": null,
            "layout": "IPY_MODEL_ab9b91b1debf4ddab2169e03e8504378",
            "placeholder": "​",
            "style": "IPY_MODEL_3d53803295af40a394a903dcbbc846df",
            "value": "100%"
          }
        },
        "830f7c6eec734061b6a970791c67994a": {
          "model_module": "@jupyter-widgets/controls",
          "model_name": "FloatProgressModel",
          "model_module_version": "1.5.0",
          "state": {
            "_dom_classes": [],
            "_model_module": "@jupyter-widgets/controls",
            "_model_module_version": "1.5.0",
            "_model_name": "FloatProgressModel",
            "_view_count": null,
            "_view_module": "@jupyter-widgets/controls",
            "_view_module_version": "1.5.0",
            "_view_name": "ProgressView",
            "bar_style": "success",
            "description": "",
            "description_tooltip": null,
            "layout": "IPY_MODEL_315e0a16b6c442c7a0aee5838161809d",
            "max": 6,
            "min": 0,
            "orientation": "horizontal",
            "style": "IPY_MODEL_e63483750eb84e339817b79805aec72d",
            "value": 6
          }
        },
        "c6938d44a0314bd1aae0d30ffa904149": {
          "model_module": "@jupyter-widgets/controls",
          "model_name": "HTMLModel",
          "model_module_version": "1.5.0",
          "state": {
            "_dom_classes": [],
            "_model_module": "@jupyter-widgets/controls",
            "_model_module_version": "1.5.0",
            "_model_name": "HTMLModel",
            "_view_count": null,
            "_view_module": "@jupyter-widgets/controls",
            "_view_module_version": "1.5.0",
            "_view_name": "HTMLView",
            "description": "",
            "description_tooltip": null,
            "layout": "IPY_MODEL_4f2c071a1a9446348246e27d452fd331",
            "placeholder": "​",
            "style": "IPY_MODEL_68dd6942716d417a8ffbadf20448ce75",
            "value": " 6/6 [00:00&lt;00:00, 139.33it/s]"
          }
        },
        "67f2708ab9c344b2827e6124834bc853": {
          "model_module": "@jupyter-widgets/base",
          "model_name": "LayoutModel",
          "model_module_version": "1.2.0",
          "state": {
            "_model_module": "@jupyter-widgets/base",
            "_model_module_version": "1.2.0",
            "_model_name": "LayoutModel",
            "_view_count": null,
            "_view_module": "@jupyter-widgets/base",
            "_view_module_version": "1.2.0",
            "_view_name": "LayoutView",
            "align_content": null,
            "align_items": null,
            "align_self": null,
            "border": null,
            "bottom": null,
            "display": null,
            "flex": null,
            "flex_flow": null,
            "grid_area": null,
            "grid_auto_columns": null,
            "grid_auto_flow": null,
            "grid_auto_rows": null,
            "grid_column": null,
            "grid_gap": null,
            "grid_row": null,
            "grid_template_areas": null,
            "grid_template_columns": null,
            "grid_template_rows": null,
            "height": null,
            "justify_content": null,
            "justify_items": null,
            "left": null,
            "margin": null,
            "max_height": null,
            "max_width": null,
            "min_height": null,
            "min_width": null,
            "object_fit": null,
            "object_position": null,
            "order": null,
            "overflow": null,
            "overflow_x": null,
            "overflow_y": null,
            "padding": null,
            "right": null,
            "top": null,
            "visibility": null,
            "width": null
          }
        },
        "ab9b91b1debf4ddab2169e03e8504378": {
          "model_module": "@jupyter-widgets/base",
          "model_name": "LayoutModel",
          "model_module_version": "1.2.0",
          "state": {
            "_model_module": "@jupyter-widgets/base",
            "_model_module_version": "1.2.0",
            "_model_name": "LayoutModel",
            "_view_count": null,
            "_view_module": "@jupyter-widgets/base",
            "_view_module_version": "1.2.0",
            "_view_name": "LayoutView",
            "align_content": null,
            "align_items": null,
            "align_self": null,
            "border": null,
            "bottom": null,
            "display": null,
            "flex": null,
            "flex_flow": null,
            "grid_area": null,
            "grid_auto_columns": null,
            "grid_auto_flow": null,
            "grid_auto_rows": null,
            "grid_column": null,
            "grid_gap": null,
            "grid_row": null,
            "grid_template_areas": null,
            "grid_template_columns": null,
            "grid_template_rows": null,
            "height": null,
            "justify_content": null,
            "justify_items": null,
            "left": null,
            "margin": null,
            "max_height": null,
            "max_width": null,
            "min_height": null,
            "min_width": null,
            "object_fit": null,
            "object_position": null,
            "order": null,
            "overflow": null,
            "overflow_x": null,
            "overflow_y": null,
            "padding": null,
            "right": null,
            "top": null,
            "visibility": null,
            "width": null
          }
        },
        "3d53803295af40a394a903dcbbc846df": {
          "model_module": "@jupyter-widgets/controls",
          "model_name": "DescriptionStyleModel",
          "model_module_version": "1.5.0",
          "state": {
            "_model_module": "@jupyter-widgets/controls",
            "_model_module_version": "1.5.0",
            "_model_name": "DescriptionStyleModel",
            "_view_count": null,
            "_view_module": "@jupyter-widgets/base",
            "_view_module_version": "1.2.0",
            "_view_name": "StyleView",
            "description_width": ""
          }
        },
        "315e0a16b6c442c7a0aee5838161809d": {
          "model_module": "@jupyter-widgets/base",
          "model_name": "LayoutModel",
          "model_module_version": "1.2.0",
          "state": {
            "_model_module": "@jupyter-widgets/base",
            "_model_module_version": "1.2.0",
            "_model_name": "LayoutModel",
            "_view_count": null,
            "_view_module": "@jupyter-widgets/base",
            "_view_module_version": "1.2.0",
            "_view_name": "LayoutView",
            "align_content": null,
            "align_items": null,
            "align_self": null,
            "border": null,
            "bottom": null,
            "display": null,
            "flex": null,
            "flex_flow": null,
            "grid_area": null,
            "grid_auto_columns": null,
            "grid_auto_flow": null,
            "grid_auto_rows": null,
            "grid_column": null,
            "grid_gap": null,
            "grid_row": null,
            "grid_template_areas": null,
            "grid_template_columns": null,
            "grid_template_rows": null,
            "height": null,
            "justify_content": null,
            "justify_items": null,
            "left": null,
            "margin": null,
            "max_height": null,
            "max_width": null,
            "min_height": null,
            "min_width": null,
            "object_fit": null,
            "object_position": null,
            "order": null,
            "overflow": null,
            "overflow_x": null,
            "overflow_y": null,
            "padding": null,
            "right": null,
            "top": null,
            "visibility": null,
            "width": null
          }
        },
        "e63483750eb84e339817b79805aec72d": {
          "model_module": "@jupyter-widgets/controls",
          "model_name": "ProgressStyleModel",
          "model_module_version": "1.5.0",
          "state": {
            "_model_module": "@jupyter-widgets/controls",
            "_model_module_version": "1.5.0",
            "_model_name": "ProgressStyleModel",
            "_view_count": null,
            "_view_module": "@jupyter-widgets/base",
            "_view_module_version": "1.2.0",
            "_view_name": "StyleView",
            "bar_color": null,
            "description_width": ""
          }
        },
        "4f2c071a1a9446348246e27d452fd331": {
          "model_module": "@jupyter-widgets/base",
          "model_name": "LayoutModel",
          "model_module_version": "1.2.0",
          "state": {
            "_model_module": "@jupyter-widgets/base",
            "_model_module_version": "1.2.0",
            "_model_name": "LayoutModel",
            "_view_count": null,
            "_view_module": "@jupyter-widgets/base",
            "_view_module_version": "1.2.0",
            "_view_name": "LayoutView",
            "align_content": null,
            "align_items": null,
            "align_self": null,
            "border": null,
            "bottom": null,
            "display": null,
            "flex": null,
            "flex_flow": null,
            "grid_area": null,
            "grid_auto_columns": null,
            "grid_auto_flow": null,
            "grid_auto_rows": null,
            "grid_column": null,
            "grid_gap": null,
            "grid_row": null,
            "grid_template_areas": null,
            "grid_template_columns": null,
            "grid_template_rows": null,
            "height": null,
            "justify_content": null,
            "justify_items": null,
            "left": null,
            "margin": null,
            "max_height": null,
            "max_width": null,
            "min_height": null,
            "min_width": null,
            "object_fit": null,
            "object_position": null,
            "order": null,
            "overflow": null,
            "overflow_x": null,
            "overflow_y": null,
            "padding": null,
            "right": null,
            "top": null,
            "visibility": null,
            "width": null
          }
        },
        "68dd6942716d417a8ffbadf20448ce75": {
          "model_module": "@jupyter-widgets/controls",
          "model_name": "DescriptionStyleModel",
          "model_module_version": "1.5.0",
          "state": {
            "_model_module": "@jupyter-widgets/controls",
            "_model_module_version": "1.5.0",
            "_model_name": "DescriptionStyleModel",
            "_view_count": null,
            "_view_module": "@jupyter-widgets/base",
            "_view_module_version": "1.2.0",
            "_view_name": "StyleView",
            "description_width": ""
          }
        }
      }
    }
  },
  "cells": [
    {
      "cell_type": "code",
      "source": [
        "#vibo: Виталий_Бочаров_stepik_id_56089805, telegram(@VitaliyBocharov)"
      ],
      "metadata": {
        "id": "3Gchi5dZL4Pa"
      },
      "execution_count": null,
      "outputs": []
    },
    {
      "cell_type": "markdown",
      "metadata": {
        "id": "Ot3c4fjZwC4T"
      },
      "source": [
        "<img src=\"https://s8.hostingkartinok.com/uploads/images/2018/08/308b49fcfbc619d629fe4604bceb67ac.jpg\" width=500, height=450>\n",
        "<h3 style=\"text-align: center;\"><b>Физтех-Школа Прикладной математики и информатики (ФПМИ) МФТИ</b></h3>"
      ]
    },
    {
      "cell_type": "markdown",
      "metadata": {
        "id": "P2JdzEXmwRU5"
      },
      "source": [
        "---"
      ]
    },
    {
      "cell_type": "markdown",
      "metadata": {
        "id": "Fc8iHXIVwDwj"
      },
      "source": [
        "***Some parts of the notebook are almost the copy of [ mmta-team course](https://github.com/mmta-team/mmta_fall_2020). Special thanks to mmta-team for making them publicly available. [Original notebook](https://github.com/mmta-team/mmta_fall_2020/blob/master/tasks/01_word_embeddings/task_word_embeddings.ipynb).***"
      ]
    },
    {
      "cell_type": "markdown",
      "metadata": {
        "id": "7D0wm5jt6j0U"
      },
      "source": [
        "<b> Прочитайте семинар, пожалуйста, для успешного выполнения домашнего задания. В конце ноутка напишите свой вывод. Работа без вывода оценивается ниже."
      ]
    },
    {
      "cell_type": "markdown",
      "metadata": {
        "id": "BIWqBuEa6j0b"
      },
      "source": [
        "## Задача поиска схожих по смыслу предложений"
      ]
    },
    {
      "cell_type": "markdown",
      "metadata": {
        "id": "NUkwMPLA6j0g"
      },
      "source": [
        "Мы будем ранжировать вопросы [StackOverflow](https://stackoverflow.com) на основе семантического векторного представления "
      ]
    },
    {
      "cell_type": "markdown",
      "metadata": {
        "id": "dNRXIEfu5a3Q"
      },
      "source": [
        "До этого в курсе не было речи про задачу ранжировния, поэтому введем математическую формулировку"
      ]
    },
    {
      "cell_type": "markdown",
      "metadata": {
        "id": "uS9FwWNd5a3S"
      },
      "source": [
        "## Задача ранжирования(Learning to Rank)"
      ]
    },
    {
      "cell_type": "markdown",
      "metadata": {
        "id": "wdwY9-f75a3T"
      },
      "source": [
        "* $X$ - множество объектов\n",
        "* $X^l = \\{x_1, x_2, ..., x_l\\}$ - обучающая выборка\n",
        "<br>На обучающей выборке задан порядок между некоторыми элементами, то есть нам известно, что некий объект выборки более релевантный для нас, чем другой:\n",
        "* $i \\prec j$ - порядок пары индексов объектов на выборке $X^l$ c индексами $i$ и $j$\n",
        "### Задача:\n",
        "построить ранжирующую функцию $a$ : $X \\rightarrow R$ такую, что\n",
        "$$i \\prec j \\Rightarrow a(x_i) < a(x_j)$$"
      ]
    },
    {
      "cell_type": "markdown",
      "metadata": {
        "id": "WG2IGBsh5a3U"
      },
      "source": [
        "<img src=\"https://d25skit2l41vkl.cloudfront.net/wp-content/uploads/2016/12/Featured-Image.jpg\" width=500, height=450>"
      ]
    },
    {
      "cell_type": "markdown",
      "metadata": {
        "id": "MQk_rolFwT_h"
      },
      "source": [
        "### Embeddings"
      ]
    },
    {
      "cell_type": "markdown",
      "metadata": {
        "id": "xUe1PGXn6j0l"
      },
      "source": [
        "Будем использовать предобученные векторные представления слов на постах Stack Overflow.<br>\n",
        "[A word2vec model trained on Stack Overflow posts](https://github.com/vefstathiou/SO_word2vec)"
      ]
    },
    {
      "cell_type": "code",
      "metadata": {
        "id": "mYkI54Y-rk7a",
        "outputId": "bbaa4b77-6c6f-4314-ea62-b8929d269ef1",
        "colab": {
          "base_uri": "https://localhost:8080/"
        }
      },
      "source": [
        "#vibo: загружаем предобученные векторные представления\n",
        "!wget https://zenodo.org/record/1199620/files/SO_vectors_200.bin?download=1"
      ],
      "execution_count": 1,
      "outputs": [
        {
          "output_type": "stream",
          "name": "stdout",
          "text": [
            "--2022-03-25 22:25:25--  https://zenodo.org/record/1199620/files/SO_vectors_200.bin?download=1\n",
            "Resolving zenodo.org (zenodo.org)... 137.138.76.77\n",
            "Connecting to zenodo.org (zenodo.org)|137.138.76.77|:443... connected.\n",
            "HTTP request sent, awaiting response... 200 OK\n",
            "Length: 1453905423 (1.4G) [application/octet-stream]\n",
            "Saving to: ‘SO_vectors_200.bin?download=1’\n",
            "\n",
            "SO_vectors_200.bin? 100%[===================>]   1.35G  12.6MB/s    in 2m 58s  \n",
            "\n",
            "2022-03-25 22:28:25 (7.78 MB/s) - ‘SO_vectors_200.bin?download=1’ saved [1453905423/1453905423]\n",
            "\n"
          ]
        }
      ]
    },
    {
      "cell_type": "markdown",
      "source": [
        "# !!!wv_embeddings"
      ],
      "metadata": {
        "id": "4WYr88LqatB-"
      }
    },
    {
      "cell_type": "code",
      "metadata": {
        "id": "O8YJTOYv6j0s"
      },
      "source": [
        "from gensim.models.keyedvectors import KeyedVectors\n",
        "wv_embeddings = KeyedVectors.load_word2vec_format(\"SO_vectors_200.bin?download=1\", binary=True)"
      ],
      "execution_count": 2,
      "outputs": []
    },
    {
      "cell_type": "markdown",
      "metadata": {
        "id": "aIcT_g-C6j1E"
      },
      "source": [
        "#### Как пользоваться этими векторами?"
      ]
    },
    {
      "cell_type": "markdown",
      "metadata": {
        "id": "DWO5SPDY6j1G"
      },
      "source": [
        "Посмотрим на примере одного слова, что из себя представляет embedding"
      ]
    },
    {
      "cell_type": "code",
      "metadata": {
        "scrolled": true,
        "id": "KeSBlQfk6j1J",
        "colab": {
          "base_uri": "https://localhost:8080/"
        },
        "outputId": "41b33cf2-37d7-4d1d-b257-afc34f1446dd"
      },
      "source": [
        "#vibo: каждое слово - вектор размера 200\n",
        "word = 'dog'\n",
        "if word in wv_embeddings:\n",
        "    print('dog', type(wv_embeddings[word]), wv_embeddings[word].dtype, wv_embeddings[word].shape)"
      ],
      "execution_count": 3,
      "outputs": [
        {
          "output_type": "stream",
          "name": "stdout",
          "text": [
            "dog <class 'numpy.ndarray'> float32 (200,)\n"
          ]
        }
      ]
    },
    {
      "cell_type": "code",
      "metadata": {
        "id": "T4Eq-D1qxpMJ",
        "colab": {
          "base_uri": "https://localhost:8080/"
        },
        "outputId": "8d91d7ce-6065-4f26-e23a-743cfed7bd6c"
      },
      "source": [
        "#vibo: словарь на 1,8 млн. слов\n",
        "print(f\"Num of words: {len(wv_embeddings.index2word)}\")"
      ],
      "execution_count": 4,
      "outputs": [
        {
          "output_type": "stream",
          "name": "stdout",
          "text": [
            "Num of words: 1787145\n"
          ]
        }
      ]
    },
    {
      "cell_type": "markdown",
      "metadata": {
        "id": "ZT6NTCys6j1Q"
      },
      "source": [
        "Найдем наиболее близкие слова к слову `dog`:"
      ]
    },
    {
      "cell_type": "markdown",
      "metadata": {
        "id": "n08z2PjMwC5o"
      },
      "source": [
        "#### Вопрос 1:\n",
        "* Входит ли слов `cat` топ-5 близких слов к слову `dog`? Какое место? "
      ]
    },
    {
      "cell_type": "code",
      "metadata": {
        "scrolled": true,
        "id": "nYwVz0xG6j1U",
        "colab": {
          "base_uri": "https://localhost:8080/",
          "height": 36
        },
        "outputId": "bbc63672-54db-4de4-bf44-f14160449b0c"
      },
      "source": [
        "# method most_simmilar\n",
        "'''your code'''"
      ],
      "execution_count": null,
      "outputs": [
        {
          "output_type": "execute_result",
          "data": {
            "text/plain": [
              "'your code'"
            ],
            "application/vnd.google.colaboratory.intrinsic+json": {
              "type": "string"
            }
          },
          "metadata": {},
          "execution_count": 8
        }
      ]
    },
    {
      "cell_type": "code",
      "source": [
        "#vbio: векторизованное слово 'dog' ;))))\n",
        "wv_embeddings['dog']"
      ],
      "metadata": {
        "id": "fWyiJnXjLUah"
      },
      "execution_count": null,
      "outputs": []
    },
    {
      "cell_type": "code",
      "source": [
        "#vbio: а Dog нет в словаре, значит нужно делать lower()\n",
        "wv_embeddings['Dog']"
      ],
      "metadata": {
        "id": "t01YLbrVWmRB"
      },
      "execution_count": null,
      "outputs": []
    },
    {
      "cell_type": "code",
      "source": [
        "#vibo: импортируемые библиотеки\n",
        "import numpy as np\n",
        "import scipy.spatial.distance as ds\n",
        "\n",
        "#vibo: ФУНКЦИЯ КОСИНУСНОГО РАССТОЯНИЯ (чем меньше, тем лучше)\n",
        "def cosine_dis(v2):\n",
        "    return ds.cosine(wv_embeddings['dog'], v2)\n",
        "\n",
        "#vibo: проверяем косинусное расстояние для одного и того же вектора\n",
        "print('dog: ', cosine_dis(wv_embeddings['dog']))\n",
        "\n",
        "#vibo: проверим косинусное расстояние до кошки\n",
        "print('cat: ', cosine_dis(wv_embeddings['cat']))"
      ],
      "metadata": {
        "colab": {
          "base_uri": "https://localhost:8080/"
        },
        "id": "g2uh-PW32JJV",
        "outputId": "e83aa350-f258-4568-bf5e-b37ba991fb02"
      },
      "execution_count": 7,
      "outputs": [
        {
          "output_type": "stream",
          "name": "stdout",
          "text": [
            "dog:  0.0\n",
            "cat:  0.31476593017578125\n"
          ]
        }
      ]
    },
    {
      "cell_type": "code",
      "source": [
        "#vibo: сделаем тестовый список из 10 первых слов\n",
        "test_list = wv_embeddings.index2word[0:10]\n",
        "test_list"
      ],
      "metadata": {
        "colab": {
          "base_uri": "https://localhost:8080/"
        },
        "id": "XFkkHf-VTV5H",
        "outputId": "818fc020-4b95-4334-e1de-9750b6c12566"
      },
      "execution_count": 8,
      "outputs": [
        {
          "output_type": "execute_result",
          "data": {
            "text/plain": [
              "['use', 'code', 'using', 'like', 'will', 'want', 'need', 'get', 'file', 'one']"
            ]
          },
          "metadata": {},
          "execution_count": 8
        }
      ]
    },
    {
      "cell_type": "code",
      "source": [
        "# #vibo: создадим словарь {слово: косинусное расстояние}\n",
        "# test_dict = {}\n",
        "\n",
        "# for i in range(len(test_list)):\n",
        "#   print(test_list[i])\n",
        "#   key = test_list[i]\n",
        "#   print(cosine_dis(wv_embeddings[test_list[i]]))\n",
        "#   value = cosine_dis(wv_embeddings[test_list[i]])\n",
        "#   test_dict[key] = value"
      ],
      "metadata": {
        "colab": {
          "base_uri": "https://localhost:8080/"
        },
        "id": "cQM-0cMtU8ax",
        "outputId": "11d787aa-1823-42a9-9c3e-5f04fd00e2ab"
      },
      "execution_count": null,
      "outputs": [
        {
          "output_type": "stream",
          "name": "stdout",
          "text": [
            "use\n",
            "0.9241460710763931\n",
            "code\n",
            "0.7885693460702896\n",
            "using\n",
            "0.9976603414397687\n",
            "like\n",
            "0.8272953629493713\n",
            "will\n",
            "0.755998283624649\n",
            "want\n",
            "0.7662387192249298\n",
            "need\n",
            "0.8126461505889893\n",
            "get\n",
            "0.8380052149295807\n",
            "file\n",
            "0.8688021153211594\n",
            "one\n",
            "0.692000150680542\n"
          ]
        }
      ]
    },
    {
      "cell_type": "code",
      "source": [
        "# #vibo: создадим словарь {косинусное расстояние: слово}\n",
        "# test_dict = {}\n",
        "\n",
        "# for i in range(len(test_list)):\n",
        "#   #test_dict[test_list[i]] = cosine_dis(wv_embeddings[test_list[i]])\n",
        "#   test_dict[cosine_dis(wv_embeddings[test_list[i]])] = test_list[i] \n",
        "\n",
        "# test_dict"
      ],
      "metadata": {
        "colab": {
          "base_uri": "https://localhost:8080/"
        },
        "id": "FVjGm2YsYOEy",
        "outputId": "e1d7e6ed-623a-4f21-cd4a-578580a31cca"
      },
      "execution_count": null,
      "outputs": [
        {
          "output_type": "execute_result",
          "data": {
            "text/plain": [
              "{0.692000150680542: 'one',\n",
              " 0.755998283624649: 'will',\n",
              " 0.7662387192249298: 'want',\n",
              " 0.7885693460702896: 'code',\n",
              " 0.8126461505889893: 'need',\n",
              " 0.8272953629493713: 'like',\n",
              " 0.8380052149295807: 'get',\n",
              " 0.8688021153211594: 'file',\n",
              " 0.9241460710763931: 'use',\n",
              " 0.9976603414397687: 'using'}"
            ]
          },
          "metadata": {},
          "execution_count": 11
        }
      ]
    },
    {
      "cell_type": "code",
      "source": [
        "# #vibo: из ключей словаря сделал список, отсортировал по возрастанию\n",
        "# #sorted(test_dict.values())[0:11]\n",
        "# sorted_list_keys = sorted(test_dict.keys())[0:6]\n",
        "# sorted_list_keys"
      ],
      "metadata": {
        "colab": {
          "base_uri": "https://localhost:8080/"
        },
        "id": "01LfVRD9Yfhl",
        "outputId": "843688d5-18ec-4257-f122-93b7d0f35bc9"
      },
      "execution_count": null,
      "outputs": [
        {
          "output_type": "execute_result",
          "data": {
            "text/plain": [
              "[0.692000150680542,\n",
              " 0.755998283624649,\n",
              " 0.7662387192249298,\n",
              " 0.7885693460702896,\n",
              " 0.8126461505889893,\n",
              " 0.8272953629493713]"
            ]
          },
          "metadata": {},
          "execution_count": 12
        }
      ]
    },
    {
      "cell_type": "code",
      "source": [
        "# #vibo: выводим значения по ключам\n",
        "# for i in range(6):\n",
        "#   print(test_dict[sorted_list_keys[i]])"
      ],
      "metadata": {
        "colab": {
          "base_uri": "https://localhost:8080/"
        },
        "id": "pPGYEZNdbLl8",
        "outputId": "4f3bb37b-5c19-4f4c-d635-80792fe26668"
      },
      "execution_count": null,
      "outputs": [
        {
          "output_type": "stream",
          "name": "stdout",
          "text": [
            "one\n",
            "will\n",
            "want\n",
            "code\n",
            "need\n",
            "like\n"
          ]
        }
      ]
    },
    {
      "cell_type": "code",
      "source": [
        "#vibo: пробую для полного словаря из 1787145 слов...\n",
        "\n",
        "#vibo: сделаем список\n",
        "list_1787145 = wv_embeddings.index2word\n",
        "\n",
        "#vibo: создадим пустой словарь\n",
        "dict_1787145 = {}\n",
        "\n",
        "#vibo: на длинну полного списка\n",
        "for i in range(len(list_1787145)):\n",
        "  #vibo:  словарь вида {косинусное расстояние: слово}\n",
        "  dict_1787145[cosine_dis(wv_embeddings[list_1787145[i]])] = list_1787145[i]\n",
        "\n",
        "#vibo: отсортируем список ключей (косинусное расстояние) по возрастанию, возьмем первые 30\n",
        "sorted_list_keys = sorted(dict_1787145.keys())[0:31]\n",
        "\n",
        "#vibo: \"нулевое\" слово dog и топ-30 ближайших\n",
        "for i in range(31):\n",
        "  print('{}: {} ({})'.format(i, dict_1787145[sorted_list_keys[i]], sorted_list_keys[i]))"
      ],
      "metadata": {
        "colab": {
          "base_uri": "https://localhost:8080/"
        },
        "id": "NXUilXyJfFMm",
        "outputId": "11e8c79c-b87e-454b-9fdf-948704e9aaa6"
      },
      "execution_count": 9,
      "outputs": [
        {
          "output_type": "stream",
          "name": "stdout",
          "text": [
            "0: dog (0.0)\n",
            "1: animal (0.14358210563659668)\n",
            "2: dogs (0.21191346645355225)\n",
            "3: mammal (0.2376195788383484)\n",
            "4: cats (0.23787474632263184)\n",
            "5: animals (0.23920613527297974)\n",
            "6: feline (0.26076024770736694)\n",
            "7: bird (0.26845115423202515)\n",
            "8: animal1 (0.27807849645614624)\n",
            "9: doggy (0.2786650061607361)\n",
            "10: labrador (0.2790868878364563)\n",
            "11: canine (0.2790943384170532)\n",
            "12: meow (0.28147053718566895)\n",
            "13: cow (0.2919555902481079)\n",
            "14: dog2 (0.2942090630531311)\n",
            "15: woof (0.294938862323761)\n",
            "16: dog1 (0.2961159348487854)\n",
            "17: dog3 (0.29811811447143555)\n",
            "18: penguin (0.302970826625824)\n",
            "19: bulldog (0.30595123767852783)\n",
            "20: mammals (0.3068612217903137)\n",
            "21: bark (0.3086201548576355)\n",
            "22: fruit (0.31077486276626587)\n",
            "23: reptile (0.31087905168533325)\n",
            "24: furry (0.31365013122558594)\n",
            "25: carnivore (0.3137050271034241)\n",
            "26: cat (0.31476593017578125)\n",
            "27: horse (0.31666189432144165)\n",
            "28: kitten (0.3179847002029419)\n",
            "29: sheep (0.3197430372238159)\n",
            "30: chihuahua (0.3208243250846863)\n"
          ]
        }
      ]
    },
    {
      "cell_type": "code",
      "source": [
        "#vibo: смущает наличие dog2, dog1, dog3"
      ],
      "metadata": {
        "id": "sQFAnQw40Z89"
      },
      "execution_count": null,
      "outputs": []
    },
    {
      "cell_type": "code",
      "source": [
        "#vibo: проверим все еще раз по исходной формуле\n",
        "print('0: dog ({})'.format(cosine_dis(wv_embeddings['dog'])))\n",
        "print('')\n",
        "print('Top-5')\n",
        "print('1: animal ({})'.format(cosine_dis(wv_embeddings['animal'])))\n",
        "print('2: dogs ({})'.format(cosine_dis(wv_embeddings['dogs'])))\n",
        "print('3: mammal ({})'.format(cosine_dis(wv_embeddings['mammal'])))\n",
        "print('4: cats ({})'.format(cosine_dis(wv_embeddings['cats'])))\n",
        "print('5: animals ({})'.format(cosine_dis(wv_embeddings['animals'])))\n",
        "print('')\n",
        "print('Позиция слова \"cat\"')\n",
        "#vibo: проверим косинусное расстояние до кошки\n",
        "print('26: cat ({})'.format(cosine_dis(wv_embeddings['cat'])))"
      ],
      "metadata": {
        "colab": {
          "base_uri": "https://localhost:8080/"
        },
        "id": "1_1sJgcig0OR",
        "outputId": "7f5d1da9-dde7-45c1-a17a-980d104373ce"
      },
      "execution_count": 10,
      "outputs": [
        {
          "output_type": "stream",
          "name": "stdout",
          "text": [
            "0: dog (0.0)\n",
            "\n",
            "Top-5\n",
            "1: animal (0.14358210563659668)\n",
            "2: dogs (0.21191346645355225)\n",
            "3: mammal (0.2376195788383484)\n",
            "4: cats (0.23787474632263184)\n",
            "5: animals (0.23920613527297974)\n",
            "\n",
            "Позиция слова \"cat\"\n",
            "26: cat (0.31476593017578125)\n"
          ]
        }
      ]
    },
    {
      "cell_type": "markdown",
      "source": [
        "#### **Ответ на вопрос 1:** итого в top-5 слово 'cat' - не входит, оно находится на 26 месте не считая нулевой позиции 'dog'"
      ],
      "metadata": {
        "id": "JXoHhI1potYP"
      }
    },
    {
      "cell_type": "markdown",
      "metadata": {
        "id": "ai48-5vv6j1d"
      },
      "source": [
        "### Векторные представления текста\n",
        "\n",
        "Перейдем от векторных представлений отдельных слов к векторным представлениям вопросов, как к **среднему** векторов всех слов в вопросе. Если для какого-то слова нет предобученного вектора, то его нужно пропустить. Если вопрос не содержит ни одного известного слова, то нужно вернуть нулевой вектор."
      ]
    },
    {
      "cell_type": "markdown",
      "source": [
        "# !!!base_tokenizer"
      ],
      "metadata": {
        "id": "WoR2d55s6fcX"
      }
    },
    {
      "cell_type": "code",
      "metadata": {
        "id": "EhNuxBJd6j1f"
      },
      "source": [
        "#vibo: простой токенайзер\n",
        "import numpy as np\n",
        "import re\n",
        "# you can use your tokenizer\n",
        "# for example, from nltk.tokenize import WordPunctTokenizer\n",
        "class MyTokenizer:\n",
        "    def __init__(self):\n",
        "        pass\n",
        "    def tokenize(self, text):\n",
        "        return re.findall('\\w+', text)\n",
        "\n",
        "base_tokenizer = MyTokenizer()"
      ],
      "execution_count": 11,
      "outputs": []
    },
    {
      "cell_type": "code",
      "source": [
        "# #vibo: посмотрим, что делает регулярное выражение:\n",
        "# test_str = 'I love neural networks'\n",
        "\n",
        "# def tokenize(text):\n",
        "#     return re.findall('\\w+', text)\n",
        "\n",
        "# tokenize(test_str)"
      ],
      "metadata": {
        "colab": {
          "base_uri": "https://localhost:8080/"
        },
        "id": "Sle8GX6o3Sow",
        "outputId": "778895df-5bde-40f8-e110-c7784bd93220"
      },
      "execution_count": null,
      "outputs": [
        {
          "output_type": "execute_result",
          "data": {
            "text/plain": [
              "['I', 'love', 'neural', 'networks']"
            ]
          },
          "metadata": {},
          "execution_count": 169
        }
      ]
    },
    {
      "cell_type": "code",
      "source": [
        "#vibo: вызываю токенайзер\n",
        "# tokenizer.tokenize('I love neural networks')"
      ],
      "metadata": {
        "colab": {
          "base_uri": "https://localhost:8080/"
        },
        "id": "CEVqAjOoish8",
        "outputId": "3b0c5714-9c01-4e88-e58d-0e38a1ef09cb"
      },
      "execution_count": null,
      "outputs": [
        {
          "output_type": "execute_result",
          "data": {
            "text/plain": [
              "['I', 'love', 'neural', 'networks']"
            ]
          },
          "metadata": {},
          "execution_count": 176
        }
      ]
    },
    {
      "cell_type": "code",
      "source": [
        "# #vibo: размерность вектора\n",
        "# (wv_embeddings['networks'].shape)"
      ],
      "metadata": {
        "colab": {
          "base_uri": "https://localhost:8080/"
        },
        "id": "n0OZ2JG2gE2s",
        "outputId": "82356894-edae-44d7-fa6a-1f0794b032e6"
      },
      "execution_count": null,
      "outputs": [
        {
          "output_type": "execute_result",
          "data": {
            "text/plain": [
              "(200,)"
            ]
          },
          "metadata": {},
          "execution_count": 203
        }
      ]
    },
    {
      "cell_type": "code",
      "source": [
        "# #vibo: длина вектора\n",
        "# len(wv_embeddings['networks'])"
      ],
      "metadata": {
        "colab": {
          "base_uri": "https://localhost:8080/"
        },
        "id": "DsUb6bu_kLTO",
        "outputId": "41c0cb79-37ff-49dc-9195-2f54ba2d43fe"
      },
      "execution_count": null,
      "outputs": [
        {
          "output_type": "execute_result",
          "data": {
            "text/plain": [
              "200"
            ]
          },
          "metadata": {},
          "execution_count": 191
        }
      ]
    },
    {
      "cell_type": "code",
      "source": [
        "# #vibo: нулевой вектор размера 200\n",
        "# token_vector = np.zeros(200)"
      ],
      "metadata": {
        "id": "Kbq3AG6zpiHC"
      },
      "execution_count": null,
      "outputs": []
    },
    {
      "cell_type": "code",
      "source": [
        "# #vibo: проверяю\n",
        "# (token_vector).shape"
      ],
      "metadata": {
        "colab": {
          "base_uri": "https://localhost:8080/"
        },
        "id": "LDc32JnBppTm",
        "outputId": "1a53177f-3ee4-45b8-ccbb-dc63740a1af1"
      },
      "execution_count": null,
      "outputs": [
        {
          "output_type": "execute_result",
          "data": {
            "text/plain": [
              "(200,)"
            ]
          },
          "metadata": {},
          "execution_count": 206
        }
      ]
    },
    {
      "cell_type": "markdown",
      "source": [
        "# !!!question_to_vec"
      ],
      "metadata": {
        "id": "t9BwOE9ORKvG"
      }
    },
    {
      "cell_type": "code",
      "source": [
        "#vibo: tokenizer ввели выше как tokenizer = MyTokenizer()\n",
        "def question_to_vec(question, embeddings, tokenizer, dim=200):\n",
        "    \"\"\"\n",
        "        question: строка\n",
        "        embeddings: наше векторное представление\n",
        "        dim: размер любого вектора в нашем представлении\n",
        "        \n",
        "        return: векторное представление для вопроса\n",
        "    \"\"\"\n",
        "    \n",
        "    '''your code'''\n",
        "\n",
        "    #vibo: используя простой токенайзер, написанный выше токенизируем предложение \n",
        "    token_list = tokenizer.tokenize(question)\n",
        "    #vibo: создаем нулевой вектор длинной dim=200\n",
        "    token_vector = np.zeros(dim)\n",
        "    #vibo: идем по списку токенов предложения\n",
        "    a = 0\n",
        "    for i in range(len(token_list)):\n",
        "      #vibo: спомощью контрукции try - except обходим ошибку отсутствия в словаре слова 'I'\n",
        "      try:\n",
        "        #token_vector += wv_embeddings[token_list[i]]\n",
        "        #vibo: заменил, функция не работала без wv_embeddings, выдавая одни нулевые векторы\n",
        "        token_vector += embeddings[token_list[i]]\n",
        "        a += 1\n",
        "      except:\n",
        "        pass\n",
        "    #vibo:чтобы не делить на ноль в случае предложения, в котором нет ни одного слова из словаря\n",
        "    if a > 0:\n",
        "      return token_vector / a\n",
        "    elif a == 0:\n",
        "      return token_vector"
      ],
      "metadata": {
        "id": "7W-rxfwv3siS"
      },
      "execution_count": 12,
      "outputs": []
    },
    {
      "cell_type": "code",
      "source": [
        "#vibo: заданное по условию предложение\n",
        "test_question = 'I love neural networks'\n",
        "\n",
        "#vibo: запускаем написанную функцию для test_question\n",
        "#vibo: векторное представление слов берем из предобученного представления (вопрос 1)\n",
        "#vibo: tokenizer - берем из написанного выше класса\n",
        "#vibo: длина векторов в предобученном словаре 200\n",
        "question_to_vec(test_question, wv_embeddings, base_tokenizer)"
      ],
      "metadata": {
        "id": "KMzmXYOqjAwO"
      },
      "execution_count": null,
      "outputs": []
    },
    {
      "cell_type": "code",
      "source": [
        "# #vibo: странно, что проверка без сложения с np.zeros(200) дает false\n",
        "# #vibo: если кто-то объяснит почему так буду очень благодарен\n",
        "# question_to_vec(test_question, wv_embeddings, tokenizer) == (wv_embeddings['love'] + wv_embeddings['neural'] + wv_embeddings['networks'])/3\n",
        "\n",
        "#vibo: странно, что проверка со сложением с np.zeros(200) дает true \n",
        "question_to_vec(test_question, wv_embeddings, base_tokenizer) == (np.zeros(200) + wv_embeddings['love'] + wv_embeddings['neural'] + wv_embeddings['networks'])/3\n",
        "#(np.zeros(200) + wv_embeddings['love'] + wv_embeddings['neural'] + wv_embeddings['networks'])/3"
      ],
      "metadata": {
        "id": "ecHNPnw4rG0P"
      },
      "execution_count": null,
      "outputs": []
    },
    {
      "cell_type": "code",
      "source": [
        "test_question_error = ' I '\n",
        "\n",
        "#vibo: по условию задачи если в вопросе нет ни одного слова из словаря, на выходе - нулевой вектор\n",
        "question_to_vec(test_question_error, wv_embeddings, base_tokenizer)\n",
        "#vibo: у меня получается деление на ноль, поэтому nan\n",
        "#vibo: как быстро переделать не понимаю, оставлю пока так"
      ],
      "metadata": {
        "id": "YeBA0HrEyhDn"
      },
      "execution_count": null,
      "outputs": []
    },
    {
      "cell_type": "markdown",
      "metadata": {
        "id": "u5Q_4j7r6j1u"
      },
      "source": [
        "Теперь у нас есть метод для создания векторного представления любого предложения."
      ]
    },
    {
      "cell_type": "markdown",
      "metadata": {
        "id": "EsJSNkhm6j1y"
      },
      "source": [
        "#### Вопрос 2:\n",
        "* Какая третья(с индексом 2) компонента вектора предложения `I love neural networks` (округлите до 2 знаков после запятой)?"
      ]
    },
    {
      "cell_type": "code",
      "source": [
        "'''your code'''\n",
        "#vibo: получаем ответ на вопрос 2. с помощью полученной функции\n",
        "test_question = 'I love neural networks'\n",
        "\n",
        "round(question_to_vec(test_question, wv_embeddings, base_tokenizer)[2], 2)"
      ],
      "metadata": {
        "colab": {
          "base_uri": "https://localhost:8080/"
        },
        "id": "b_ttMzETwL3e",
        "outputId": "b204e77b-b977-4d74-816a-0233c83300a0"
      },
      "execution_count": 16,
      "outputs": [
        {
          "output_type": "execute_result",
          "data": {
            "text/plain": [
              "-1.29"
            ]
          },
          "metadata": {},
          "execution_count": 16
        }
      ]
    },
    {
      "cell_type": "code",
      "source": [
        "#vibo: сделаем проверку. 'I' в словаре нет\n",
        "round(((wv_embeddings['love'])[2] + (wv_embeddings['neural'])[2] + (wv_embeddings['networks'])[2])/3, 2)"
      ],
      "metadata": {
        "colab": {
          "base_uri": "https://localhost:8080/"
        },
        "id": "UE6YXhcAx0Ws",
        "outputId": "c2c101dd-2cad-4ee3-e3bd-a746913c5016"
      },
      "execution_count": 17,
      "outputs": [
        {
          "output_type": "execute_result",
          "data": {
            "text/plain": [
              "-1.29"
            ]
          },
          "metadata": {},
          "execution_count": 17
        }
      ]
    },
    {
      "cell_type": "markdown",
      "source": [
        "#### **Ответ на вопрос 2:** -1.29"
      ],
      "metadata": {
        "id": "23tadQPVxRte"
      }
    },
    {
      "cell_type": "markdown",
      "metadata": {
        "id": "Y60z4t6W6j16"
      },
      "source": [
        "### Оценка близости текстов\n",
        "\n",
        "Представим, что мы используем идеальные векторные представления слов. Тогда косинусное расстояние между дублирующими предложениями должно быть меньше, чем между случайно взятыми предложениями. \n",
        "\n",
        "Сгенерируем для каждого из $N$ вопросов $R$ случайных отрицательных примеров и примешаем к ним также настоящие дубликаты. Для каждого вопроса будем ранжировать с помощью нашей модели $R + 1$ примеров и смотреть на позицию дубликата. Мы хотим, чтобы дубликат был первым в ранжированном списке.\n",
        "\n",
        "#### Hits@K\n",
        "Первой простой метрикой будет количество корректных попаданий для какого-то $K$:\n",
        "$$ \\text{Hits@K} = \\frac{1}{N}\\sum_{i=1}^N \\, [rank\\_q_i^{'} \\le K],$$\n",
        "* $\\begin{equation*}\n",
        "[x < 0 ] \\equiv \n",
        " \\begin{cases}\n",
        "   1, &x < 0\\\\\n",
        "   0, &x \\geq 0\n",
        " \\end{cases}\n",
        "\\end{equation*}$ - индикаторная функция\n",
        "* $q_i$ - $i$-ый вопрос\n",
        "* $q_i^{'}$ - его дубликат\n",
        "* $rank\\_q_i^{'}$ - позиция дубликата в ранжированном списке ближайших предложений для вопроса $q_i$.\n",
        "\n",
        "#### DCG@K\n",
        "Второй метрикой будет упрощенная DCG метрика, учитывающая порядок элементов в списке путем домножения релевантности элемента на вес равный обратному логарифму номера позиции::\n",
        "$$ \\text{DCG@K} = \\frac{1}{N} \\sum_{i=1}^N\\frac{1}{\\log_2(1+rank\\_q_i^{'})}\\cdot[rank\\_q_i^{'} \\le K],$$\n",
        "С такой метрикой модель штрафуется за большой ранк корректного ответа"
      ]
    },
    {
      "cell_type": "markdown",
      "metadata": {
        "id": "eHCnH-jw6j18"
      },
      "source": [
        "#### Вопрос 3:\n",
        "* Максимум `Hits@47 - DCG@1`?"
      ]
    },
    {
      "cell_type": "markdown",
      "source": [
        "#### **Ответ на вопрос 3:** 1 (если значение метрики Hits находится в интервале [0, 1] и значение метрики DCG в интервале [0, 1], то максимум их разности 1)"
      ],
      "metadata": {
        "id": "nYETAQA05si8"
      }
    },
    {
      "cell_type": "markdown",
      "metadata": {
        "id": "_tFemBkP6j1-"
      },
      "source": [
        "<img src='https://hsto.org/files/1c5/edf/dee/1c5edfdeebce4b71a86bdf986d9f88f2.jpg' width=400, height=200>"
      ]
    },
    {
      "cell_type": "markdown",
      "metadata": {
        "id": "0sUSxk866j1_"
      },
      "source": [
        "#### Пример оценок\n",
        "\n",
        "Вычислим описанные выше метрики для игрушечного примера. \n",
        "Пусть\n",
        "* $N = 1$, $R = 3$\n",
        "* <font color='green'>\"Что такое python?\"</font> - вопрос $q_1$\n",
        "* <font color='red'>\"Что такое язык python?\"</font> - его дубликат $q_i^{'}$\n",
        "\n",
        "Пусть модель выдала следующий ранжированный список кандидатов:\n",
        "\n",
        "1. \"Как изучить с++?\"\n",
        "2. <font color='red'>\"Что такое язык python?\"</font>\n",
        "3. \"Хочу учить Java\"\n",
        "4. \"Не понимаю Tensorflow\"\n",
        "\n",
        "$\\Rightarrow rank\\_q_i^{'} = 2$\n",
        "\n",
        "Вычислим метрику *Hits@K* для *K = 1, 4*:\n",
        "\n",
        "- [K = 1] $\\text{Hits@1} =  [rank\\_q_i^{'} \\le 1)] = 0$\n",
        "- [K = 4] $\\text{Hits@4} =  [rank\\_q_i^{'} \\le 4] = 1$\n",
        "\n",
        "Вычислим метрику *DCG@K* для *K = 1, 4*:\n",
        "- [K = 1] $\\text{DCG@1} = \\frac{1}{\\log_2(1+2)}\\cdot[2 \\le 1] = 0$\n",
        "- [K = 4] $\\text{DCG@4} = \\frac{1}{\\log_2(1+2)}\\cdot[2 \\le 4] = \\frac{1}{\\log_2{3}}$"
      ]
    },
    {
      "cell_type": "markdown",
      "metadata": {
        "id": "B4L6HJJC6j2B"
      },
      "source": [
        "#### Вопрос 4:\n",
        "* Вычислите `DCG@10`, если $rank\\_q_i^{'} = 9$(округлите до одного знака после запятой)"
      ]
    },
    {
      "cell_type": "code",
      "source": [
        "#vibo: расчет по формуле"
      ],
      "metadata": {
        "id": "qw76gZHf6Wjm"
      },
      "execution_count": null,
      "outputs": []
    },
    {
      "cell_type": "markdown",
      "source": [
        "[K = 10] $\\text{DCG@10} = \\frac{1}{\\log_2(1+9)}\\cdot[9 \\le 10] = \\frac{1}{\\log_2{10}}$"
      ],
      "metadata": {
        "id": "lwgGFMkyWNM4"
      }
    },
    {
      "cell_type": "code",
      "source": [
        "import math\n",
        "#round((1/(math.log2(10))), 1)\n",
        "\n",
        "import numpy as np\n",
        "round((1/(np.log2(10))), 1)"
      ],
      "metadata": {
        "colab": {
          "base_uri": "https://localhost:8080/"
        },
        "id": "tqmJZKpHWFsx",
        "outputId": "1a441280-9a65-407e-c94f-214074fc757c"
      },
      "execution_count": 18,
      "outputs": [
        {
          "output_type": "execute_result",
          "data": {
            "text/plain": [
              "0.3"
            ]
          },
          "metadata": {},
          "execution_count": 18
        }
      ]
    },
    {
      "cell_type": "markdown",
      "source": [
        "#### **Ответ на вопрос 4**: 0.3"
      ],
      "metadata": {
        "id": "3Pa4mlatZozd"
      }
    },
    {
      "cell_type": "markdown",
      "metadata": {
        "id": "J5xWOORI6j2F"
      },
      "source": [
        "### HITS\\_COUNT и DCG\\_SCORE"
      ]
    },
    {
      "cell_type": "markdown",
      "metadata": {
        "id": "I1q9WQOx6j2H"
      },
      "source": [
        "Каждая функция имеет два аргумента: $dup\\_ranks$ и $k$. $dup\\_ranks$ является списком, который содержит рейтинги дубликатов(их позиции в ранжированном списке). Например, $dup\\_ranks = [2]$ для примера, описанного выше."
      ]
    },
    {
      "cell_type": "markdown",
      "source": [
        "# !!!hits_count"
      ],
      "metadata": {
        "id": "uKmQW_mEcc4I"
      }
    },
    {
      "cell_type": "code",
      "source": [
        "#vibo: функция расчета метрики HITS\n",
        "def hits_count(dup_ranks, k):\n",
        "    \"\"\"\n",
        "        dup_ranks: list индексов дубликатов\n",
        "        result: вернуть  Hits@k\n",
        "    \"\"\"\n",
        "    '''your code'''\n",
        "    \n",
        "    hits_value = 0\n",
        "    #vibo: идем по списку dup_ranks\n",
        "    for i in dup_ranks:\n",
        "      #vibo: проверяем условие\n",
        "      if i <= k:\n",
        "        hits_value += 1\n",
        "      else:\n",
        "        hits_value += 0\n",
        "    #vibo: делим количество hits_value\n",
        "    hits_value = hits_value/len(dup_ranks)\n",
        "    return hits_value    "
      ],
      "metadata": {
        "id": "rfsKIddbo0nn"
      },
      "execution_count": 19,
      "outputs": []
    },
    {
      "cell_type": "code",
      "source": [
        "#vibo: проверим для списка dup_ranks и k 50/50\n",
        "hits_count([2, 1, 3, 7, 8, 9], 5)"
      ],
      "metadata": {
        "colab": {
          "base_uri": "https://localhost:8080/"
        },
        "id": "5jhwPQt3o7qA",
        "outputId": "0d917b62-c25f-43f7-8ac1-f3471d1565bd"
      },
      "execution_count": 20,
      "outputs": [
        {
          "output_type": "execute_result",
          "data": {
            "text/plain": [
              "0.5"
            ]
          },
          "metadata": {},
          "execution_count": 20
        }
      ]
    },
    {
      "cell_type": "markdown",
      "source": [
        "# !!!dcg_score"
      ],
      "metadata": {
        "id": "eshRKblVcnTp"
      }
    },
    {
      "cell_type": "code",
      "source": [
        "import math\n",
        "#vibo: функция расчета метрики DCG\n",
        "def dcg_score(dup_ranks, k):\n",
        "    \"\"\"\n",
        "        dup_ranks: list индексов дубликатов\n",
        "        result: вернуть DCG@k\n",
        "    \"\"\"\n",
        "    '''your code'''\n",
        "\n",
        "    dcg_value = 0\n",
        "    for i in dup_ranks:\n",
        "      if i <= k:\n",
        "        dcg_value += 1/(math.log2(1 + i))\n",
        "      else:\n",
        "        dcg_value += 0 \n",
        "    \n",
        "    dcg_value = dcg_value/len(dup_ranks)\n",
        "    return dcg_value"
      ],
      "metadata": {
        "id": "DiJtG9ggutrt"
      },
      "execution_count": 21,
      "outputs": []
    },
    {
      "cell_type": "code",
      "source": [
        "# #vibo: проверим для списка dcg_score и k\n",
        "dcg_score([1, 2, 1, 1, 1, 1], 3)"
      ],
      "metadata": {
        "colab": {
          "base_uri": "https://localhost:8080/"
        },
        "id": "KIKtXFL1-EA7",
        "outputId": "33cfdf38-e814-48d3-ac32-7251cd489fcd"
      },
      "execution_count": 22,
      "outputs": [
        {
          "output_type": "execute_result",
          "data": {
            "text/plain": [
              "0.9384882922619097"
            ]
          },
          "metadata": {},
          "execution_count": 22
        }
      ]
    },
    {
      "cell_type": "markdown",
      "metadata": {
        "id": "PcwHeXN26j2Y"
      },
      "source": [
        "Протестируем функции. Пусть $N = 1$, то есть один эксперимент. Будем искать копию вопроса и оценивать метрики."
      ]
    },
    {
      "cell_type": "code",
      "metadata": {
        "id": "fjISmOEW6j2h"
      },
      "source": [
        "import pandas as pd"
      ],
      "execution_count": 23,
      "outputs": []
    },
    {
      "cell_type": "code",
      "metadata": {
        "id": "gLa_Wqfh6j2m",
        "colab": {
          "base_uri": "https://localhost:8080/"
        },
        "outputId": "7c31fbeb-6ee8-44de-ac29-6a233204a9ca"
      },
      "source": [
        "copy_answers = [\"How does the catch keyword determine the type of exception that was thrown\",]\n",
        "\n",
        "# наги кандидаты\n",
        "candidates_ranking = [[\"How Can I Make These Links Rotate in PHP\",\n",
        "                       \"How does the catch keyword determine the type of exception that was thrown\",\n",
        "                       \"NSLog array description not memory address\",\n",
        "                       \"PECL_HTTP not recognised php ubuntu\"],]\n",
        "# dup_ranks — позиции наших копий, так как эксперимент один, то этот массив длины 1\n",
        "#dup_ranks = ['''your code''']\n",
        "\n",
        "#vibo: если подразумевается, что candidates_ranking отсортирован от 1 до 4, тогда позиция дубликата вопроса - 2\n",
        "dup_ranks = [2]\n",
        "#vibo: может нужно было через написанную выше функцию перевести предложения в векторное представление, а потом найти косинусное расстояние\n",
        "#vibo: из задачи не ясно.\n",
        "\n",
        "# вычисляем метрику для разных k\n",
        "print('Ваш ответ HIT:', [hits_count(dup_ranks, k) for k in range(1, 5)])\n",
        "print('Ваш ответ DCG:', [round(dcg_score(dup_ranks, k), 5) for k in range(1, 5)])"
      ],
      "execution_count": 24,
      "outputs": [
        {
          "output_type": "stream",
          "name": "stdout",
          "text": [
            "Ваш ответ HIT: [0.0, 1.0, 1.0, 1.0]\n",
            "Ваш ответ DCG: [0.0, 0.63093, 0.63093, 0.63093]\n"
          ]
        }
      ]
    },
    {
      "cell_type": "markdown",
      "metadata": {
        "id": "MoHC3YoQ6j2t"
      },
      "source": [
        "У вас должно получиться"
      ]
    },
    {
      "cell_type": "code",
      "metadata": {
        "scrolled": true,
        "id": "B0NFWq4f6j2u",
        "colab": {
          "base_uri": "https://localhost:8080/",
          "height": 112
        },
        "outputId": "e9f6e018-f7ad-4892-a90b-5a4efa7c42d3"
      },
      "source": [
        "import pandas as pd\n",
        "import numpy as np\n",
        "\n",
        "# correct_answers - метрика для разных k\n",
        "#vibo: логарифм по основанию 2 можно и из numpy брать, надо запомнить\n",
        "correct_answers = pd.DataFrame([[0, 1, 1, 1], [0, 1 / (np.log2(3)), 1 / (np.log2(3)), 1 / (np.log2(3))]],\n",
        "                               index=['HITS', 'DCG'], columns=range(1,5))\n",
        "correct_answers"
      ],
      "execution_count": 25,
      "outputs": [
        {
          "output_type": "execute_result",
          "data": {
            "text/plain": [
              "      1        2        3        4\n",
              "HITS  0  1.00000  1.00000  1.00000\n",
              "DCG   0  0.63093  0.63093  0.63093"
            ],
            "text/html": [
              "\n",
              "  <div id=\"df-2a0f237d-3ac7-43d8-a9dd-6172cb4a8680\">\n",
              "    <div class=\"colab-df-container\">\n",
              "      <div>\n",
              "<style scoped>\n",
              "    .dataframe tbody tr th:only-of-type {\n",
              "        vertical-align: middle;\n",
              "    }\n",
              "\n",
              "    .dataframe tbody tr th {\n",
              "        vertical-align: top;\n",
              "    }\n",
              "\n",
              "    .dataframe thead th {\n",
              "        text-align: right;\n",
              "    }\n",
              "</style>\n",
              "<table border=\"1\" class=\"dataframe\">\n",
              "  <thead>\n",
              "    <tr style=\"text-align: right;\">\n",
              "      <th></th>\n",
              "      <th>1</th>\n",
              "      <th>2</th>\n",
              "      <th>3</th>\n",
              "      <th>4</th>\n",
              "    </tr>\n",
              "  </thead>\n",
              "  <tbody>\n",
              "    <tr>\n",
              "      <th>HITS</th>\n",
              "      <td>0</td>\n",
              "      <td>1.00000</td>\n",
              "      <td>1.00000</td>\n",
              "      <td>1.00000</td>\n",
              "    </tr>\n",
              "    <tr>\n",
              "      <th>DCG</th>\n",
              "      <td>0</td>\n",
              "      <td>0.63093</td>\n",
              "      <td>0.63093</td>\n",
              "      <td>0.63093</td>\n",
              "    </tr>\n",
              "  </tbody>\n",
              "</table>\n",
              "</div>\n",
              "      <button class=\"colab-df-convert\" onclick=\"convertToInteractive('df-2a0f237d-3ac7-43d8-a9dd-6172cb4a8680')\"\n",
              "              title=\"Convert this dataframe to an interactive table.\"\n",
              "              style=\"display:none;\">\n",
              "        \n",
              "  <svg xmlns=\"http://www.w3.org/2000/svg\" height=\"24px\"viewBox=\"0 0 24 24\"\n",
              "       width=\"24px\">\n",
              "    <path d=\"M0 0h24v24H0V0z\" fill=\"none\"/>\n",
              "    <path d=\"M18.56 5.44l.94 2.06.94-2.06 2.06-.94-2.06-.94-.94-2.06-.94 2.06-2.06.94zm-11 1L8.5 8.5l.94-2.06 2.06-.94-2.06-.94L8.5 2.5l-.94 2.06-2.06.94zm10 10l.94 2.06.94-2.06 2.06-.94-2.06-.94-.94-2.06-.94 2.06-2.06.94z\"/><path d=\"M17.41 7.96l-1.37-1.37c-.4-.4-.92-.59-1.43-.59-.52 0-1.04.2-1.43.59L10.3 9.45l-7.72 7.72c-.78.78-.78 2.05 0 2.83L4 21.41c.39.39.9.59 1.41.59.51 0 1.02-.2 1.41-.59l7.78-7.78 2.81-2.81c.8-.78.8-2.07 0-2.86zM5.41 20L4 18.59l7.72-7.72 1.47 1.35L5.41 20z\"/>\n",
              "  </svg>\n",
              "      </button>\n",
              "      \n",
              "  <style>\n",
              "    .colab-df-container {\n",
              "      display:flex;\n",
              "      flex-wrap:wrap;\n",
              "      gap: 12px;\n",
              "    }\n",
              "\n",
              "    .colab-df-convert {\n",
              "      background-color: #E8F0FE;\n",
              "      border: none;\n",
              "      border-radius: 50%;\n",
              "      cursor: pointer;\n",
              "      display: none;\n",
              "      fill: #1967D2;\n",
              "      height: 32px;\n",
              "      padding: 0 0 0 0;\n",
              "      width: 32px;\n",
              "    }\n",
              "\n",
              "    .colab-df-convert:hover {\n",
              "      background-color: #E2EBFA;\n",
              "      box-shadow: 0px 1px 2px rgba(60, 64, 67, 0.3), 0px 1px 3px 1px rgba(60, 64, 67, 0.15);\n",
              "      fill: #174EA6;\n",
              "    }\n",
              "\n",
              "    [theme=dark] .colab-df-convert {\n",
              "      background-color: #3B4455;\n",
              "      fill: #D2E3FC;\n",
              "    }\n",
              "\n",
              "    [theme=dark] .colab-df-convert:hover {\n",
              "      background-color: #434B5C;\n",
              "      box-shadow: 0px 1px 3px 1px rgba(0, 0, 0, 0.15);\n",
              "      filter: drop-shadow(0px 1px 2px rgba(0, 0, 0, 0.3));\n",
              "      fill: #FFFFFF;\n",
              "    }\n",
              "  </style>\n",
              "\n",
              "      <script>\n",
              "        const buttonEl =\n",
              "          document.querySelector('#df-2a0f237d-3ac7-43d8-a9dd-6172cb4a8680 button.colab-df-convert');\n",
              "        buttonEl.style.display =\n",
              "          google.colab.kernel.accessAllowed ? 'block' : 'none';\n",
              "\n",
              "        async function convertToInteractive(key) {\n",
              "          const element = document.querySelector('#df-2a0f237d-3ac7-43d8-a9dd-6172cb4a8680');\n",
              "          const dataTable =\n",
              "            await google.colab.kernel.invokeFunction('convertToInteractive',\n",
              "                                                     [key], {});\n",
              "          if (!dataTable) return;\n",
              "\n",
              "          const docLinkHtml = 'Like what you see? Visit the ' +\n",
              "            '<a target=\"_blank\" href=https://colab.research.google.com/notebooks/data_table.ipynb>data table notebook</a>'\n",
              "            + ' to learn more about interactive tables.';\n",
              "          element.innerHTML = '';\n",
              "          dataTable['output_type'] = 'display_data';\n",
              "          await google.colab.output.renderOutput(dataTable, element);\n",
              "          const docLink = document.createElement('div');\n",
              "          docLink.innerHTML = docLinkHtml;\n",
              "          element.appendChild(docLink);\n",
              "        }\n",
              "      </script>\n",
              "    </div>\n",
              "  </div>\n",
              "  "
            ]
          },
          "metadata": {},
          "execution_count": 25
        }
      ]
    },
    {
      "cell_type": "markdown",
      "metadata": {
        "id": "tHZqgDTo6j0i"
      },
      "source": [
        "### Данные\n",
        "[arxiv link](https://drive.google.com/file/d/1QqT4D0EoqJTy7v9VrNCYD-m964XZFR7_/edit)\n",
        "\n",
        "`train.tsv` - выборка для обучения.<br> В каждой строке через табуляцию записаны: **<вопрос>, <похожий вопрос>**\n",
        "\n",
        "`validation.tsv` - тестовая выборка.<br> В каждой строке через табуляцию записаны: **<вопрос>, <похожий вопрос>, <отрицательный пример 1>, <отрицательный пример 2>, ...**"
      ]
    },
    {
      "cell_type": "code",
      "source": [
        "#vibo: подключаем google-disc в Colab Notebooks\n",
        "from google.colab import drive\n",
        "drive.mount('/content/drive')"
      ],
      "metadata": {
        "colab": {
          "base_uri": "https://localhost:8080/"
        },
        "id": "FIFTygqHpen4",
        "outputId": "1651e4ff-fb11-4795-90b5-6cb6ec20e199"
      },
      "execution_count": 26,
      "outputs": [
        {
          "output_type": "stream",
          "name": "stdout",
          "text": [
            "Mounted at /content/drive\n"
          ]
        }
      ]
    },
    {
      "cell_type": "code",
      "metadata": {
        "id": "jKVK2lDGvrIe",
        "colab": {
          "base_uri": "https://localhost:8080/"
        },
        "outputId": "160076a8-bcb1-4c52-c540-a6053a0fd764"
      },
      "source": [
        "#vibo: скачал ахив, выложил на google-disc\n",
        "#vibo: разархивируем\n",
        "!unzip '/content/drive/MyDrive/Colab Notebooks/stackoverflow_similar_questions.zip'"
      ],
      "execution_count": 27,
      "outputs": [
        {
          "output_type": "stream",
          "name": "stdout",
          "text": [
            "Archive:  /content/drive/MyDrive/Colab Notebooks/stackoverflow_similar_questions.zip\n",
            "   creating: data/\n",
            "  inflating: data/.DS_Store          \n",
            "   creating: __MACOSX/\n",
            "   creating: __MACOSX/data/\n",
            "  inflating: __MACOSX/data/._.DS_Store  \n",
            "  inflating: data/train.tsv          \n",
            "  inflating: data/validation.tsv     \n"
          ]
        }
      ]
    },
    {
      "cell_type": "markdown",
      "metadata": {
        "id": "hil2UsUG6j22"
      },
      "source": [
        "Считайте данные."
      ]
    },
    {
      "cell_type": "code",
      "source": [
        "# #vibo: делим список на списчок списков по 3 элемента\n",
        "# l = list(range(100))\n",
        "# n = 3\n",
        "# [l[i:i+n] for i in range(0,len(l),n)]"
      ],
      "metadata": {
        "id": "ve3cvIVjWdiU"
      },
      "execution_count": null,
      "outputs": []
    },
    {
      "cell_type": "markdown",
      "source": [
        "# !!!read_corpus"
      ],
      "metadata": {
        "id": "ZNNUNdNXg5F4"
      }
    },
    {
      "cell_type": "code",
      "source": [
        "# #vibo: сделал не правильно - сложил все вопросы в одну большую кучу\n",
        "# #vibo: а нужно было: <вопрос>, <похожий вопрос>, <отрицательный пример 1>, <отрицательный пример 2>\n",
        "# #vibo: снова неправильно, надо было делать строку длинной 1000\n",
        "#vibo: и снова не правильно, нужно было выделить строку длиной 1001\n",
        "\n",
        "#vibo: нужно было: <вопрос>, <похожий вопрос>, <отрицательный пример 1>, <отрицательный пример 2>, ...(1 + 1000 = 1001)\n",
        "def read_corpus(filename):\n",
        "    data = []\n",
        "    for line in open(filename, encoding='utf-8'):\n",
        "        '''your code'''\n",
        "        #vibo: зашли в строку, которая состоит из нескольких вопросов, разделенных tab\n",
        "        #vibo: разрезаем строку по tab\n",
        "        line = line.split('\\t')\n",
        "        #vibo: делаем один большой список\n",
        "        for question in line:\n",
        "          #vibo: lower() т.к. в wm_embedings не было заглавных\n",
        "          data.append(question.lower())\n",
        "    #vibo: спасибо google:\n",
        "    #vibo: разбиваем список на список-списков из 1001 элемента (НАДО ЗАПОМНИТЬ)\n",
        "    n = 1001\n",
        "    data = [data[i:i+n] for i in range(0,len(data),n)]\n",
        "    return data"
      ],
      "metadata": {
        "id": "aeiOu4FA3oGT"
      },
      "execution_count": 28,
      "outputs": []
    },
    {
      "cell_type": "markdown",
      "metadata": {
        "id": "kkTxY3Mk9_nG"
      },
      "source": [
        "Нам понадобиться только файл validation."
      ]
    },
    {
      "cell_type": "code",
      "metadata": {
        "id": "PTVB9Tnp6j29"
      },
      "source": [
        "#vibo: подготовливаем данные\n",
        "validation_data = read_corpus('./data/validation.tsv')"
      ],
      "execution_count": 29,
      "outputs": []
    },
    {
      "cell_type": "code",
      "source": [
        "# #vibo: посмотрим на строку в начале датасета\n",
        "# validation_data[0]\n",
        "\n",
        "# #vibo: из конца датасета\n",
        "# validation_data[-1]"
      ],
      "metadata": {
        "id": "CAT9KtrJrSgg"
      },
      "execution_count": null,
      "outputs": []
    },
    {
      "cell_type": "markdown",
      "metadata": {
        "id": "bTHfL-9y6j3F"
      },
      "source": [
        "Кол-во строк"
      ]
    },
    {
      "cell_type": "code",
      "metadata": {
        "scrolled": false,
        "id": "z6ubXhIe6j3H",
        "colab": {
          "base_uri": "https://localhost:8080/"
        },
        "outputId": "190ebdb1-696e-40fe-b21c-2045cf117384"
      },
      "source": [
        "#vibo: количество строк в датасете\n",
        "len(validation_data)"
      ],
      "execution_count": 30,
      "outputs": [
        {
          "output_type": "execute_result",
          "data": {
            "text/plain": [
              "3760"
            ]
          },
          "metadata": {},
          "execution_count": 30
        }
      ]
    },
    {
      "cell_type": "markdown",
      "metadata": {
        "id": "kaOQblBy6j3M"
      },
      "source": [
        "Размер нескольких первых строк"
      ]
    },
    {
      "cell_type": "code",
      "source": [
        "#vibo: проверяем количество элементов в каждой строчке\n",
        "#vibo: теперь все норм - должно быть 1001, 1 - оригинальный вопрос, 1 - дубликат и 999 - рандомных\n",
        "#vibo: иначе метрики в предпоследнем задании для больших k не считались\n",
        "for i in range(5):\n",
        "    print(i + 1, len(validation_data[i]))"
      ],
      "metadata": {
        "colab": {
          "base_uri": "https://localhost:8080/"
        },
        "id": "lJKdlo74GshM",
        "outputId": "cb140df7-ec6b-4971-bcd1-a2cad2a0e510"
      },
      "execution_count": 31,
      "outputs": [
        {
          "output_type": "stream",
          "name": "stdout",
          "text": [
            "1 1001\n",
            "2 1001\n",
            "3 1001\n",
            "4 1001\n",
            "5 1001\n"
          ]
        }
      ]
    },
    {
      "cell_type": "markdown",
      "metadata": {
        "id": "ySQQp0oQt1Ep"
      },
      "source": [
        "### Ранжирование без обучения"
      ]
    },
    {
      "cell_type": "markdown",
      "metadata": {
        "id": "iElEDhj-6j3R"
      },
      "source": [
        "Реализуйте функцию ранжирования кандидатов на основе косинусного расстояния. Функция должна по списку кандидатов вернуть отсортированный список пар (позиция в исходном списке кандидатов, кандидат). При этом позиция кандидата в полученном списке является его рейтингом (первый - лучший). Например, если исходный список кандидатов был [a, b, c], и самый похожий на исходный вопрос среди них - c, затем a, и в конце b, то функция должна вернуть список **[(2, c), (0, a), (1, b)]**."
      ]
    },
    {
      "cell_type": "code",
      "metadata": {
        "id": "K02JARKr6j3T"
      },
      "source": [
        "from sklearn.metrics.pairwise import cosine_similarity\n",
        "from copy import deepcopy"
      ],
      "execution_count": 32,
      "outputs": []
    },
    {
      "cell_type": "code",
      "source": [
        "#vibo: функция без вычисления косинусного расстояния\n",
        "# #def rank_candidates(question, candidates, embeddings, tokenizer, dim=200):\n",
        "# def rank_candidates(candidates):\n",
        "#     \"\"\"\n",
        "#         question: строка\n",
        "#         candidates: массив строк(кандидатов) [a, b, c]\n",
        "#         result: пары (начальная позиция, кандидат) [(2, c), (0, a), (1, b)]\n",
        "#     \"\"\"\n",
        "#     '''your code'''\n",
        "\n",
        "#     #vibo: итоговый список для N=2\n",
        "#     total_answer = []\n",
        "#     #vibo: обход списка списков\n",
        "#     for i in range(len(candidates)):\n",
        "#       str_answer = []\n",
        "#       for j in range(len(candidates[i])):\n",
        "#         #print(j, candidates[i][j])\n",
        "\n",
        "#         answer = []\n",
        "#         #vibo: добавляем исходный индекс предложения-кандидата\n",
        "#         answer.append(j)\n",
        "#         #vibo: добавляем текст предложения-кандидата\n",
        "#         answer.append(candidates[i][j])\n",
        "\n",
        "#         str_answer.append(tuple(answer))\n",
        "#       #print(str_answer)\n",
        "#       total_answer.append(str_answer)\n",
        "\n",
        "#     #vibo: вывод итогового списка    \n",
        "#     for i in range(len(total_answer)):\n",
        "#       print('\\n{} эксперимент:'.format(i+1))\n",
        "#       for j in range(len(total_answer[i])):\n",
        "#         print(total_answer[i][j])"
      ],
      "metadata": {
        "id": "TGnh1rqIsTph"
      },
      "execution_count": null,
      "outputs": []
    },
    {
      "cell_type": "code",
      "source": [
        "#vibo: пробую вывести результат без косинусного расстояния\n",
        "# rank_candidates(candidates)"
      ],
      "metadata": {
        "colab": {
          "base_uri": "https://localhost:8080/"
        },
        "id": "Udb2Ku9gGUUu",
        "outputId": "2311491e-e723-40fb-e5dd-98f6a7ec6f3d"
      },
      "execution_count": null,
      "outputs": [
        {
          "output_type": "stream",
          "name": "stdout",
          "text": [
            "\n",
            "1 эксперимент:\n",
            "(0, 'Convert Google results object (pure js) to Python object', 1)\n",
            "(1, 'C# create cookie from string and send it', 1)\n",
            "(2, 'How to use jQuery AJAX for an outside domain?', 1)\n",
            "\n",
            "2 эксперимент:\n",
            "(0, 'Getting all list items of an unordered list in PHP', 1)\n",
            "(1, 'WPF- How to update the changes in list item of a list', 1)\n",
            "(2, 'select2 not displaying search results', 1)\n"
          ]
        }
      ]
    },
    {
      "cell_type": "code",
      "source": [
        "# #vibo: работает не верно, перемудрил\n",
        "# from operator import itemgetter\n",
        "\n",
        "# def rank_candidates(question, candidates, embeddings, tokenizer, dim=200):\n",
        "#     \"\"\"\n",
        "#         question: строка\n",
        "#         candidates: массив строк(кандидатов) [a, b, c]\n",
        "#         result: пары (начальная позиция, кандидат) [(2, c), (0, a), (1, b)]\n",
        "#     \"\"\"\n",
        "#     '''your code'''\n",
        "    \n",
        "#     #vibo: переводим вопрос в векторное представление\n",
        "#     test_question = question_to_vec(question, embeddings, tokenizer, dim=200)\n",
        "#     #print(test_question)\n",
        "\n",
        "#     #vibo: итоговый список для N=2\n",
        "#     total_answer = []\n",
        "#     #vibo: обход списка списков\n",
        "#     for i in range(len(candidates)):\n",
        "#       str_answer = []\n",
        "#       for j in range(len(candidates[i])):\n",
        "#         #print(j, candidates[i][j])\n",
        "        \n",
        "#         #vibo: считаем вектороное представление кандидата\n",
        "#         test_candidat = question_to_vec(candidates[i][j], embeddings, tokenizer, dim=200)\n",
        "#         #vibo: считаем косинусное расстояние между \n",
        "#         cos_dist = ds.cosine(test_question, test_candidat)\n",
        "\n",
        "#         answer = []\n",
        "#         #vibo: добавляем исходный индекс предложения-кандидата\n",
        "#         answer.append(j)\n",
        "#         #vibo: добавляем текст предложения-кандидата\n",
        "#         answer.append(candidates[i][j])\n",
        "#         #vibo: добавляем косинусное расстояние в список\n",
        "#         answer.append(cos_dist)\n",
        "#         #vibo: делаем из списка tuple, добавляем в список для одного эксперимента\n",
        "#         str_answer.append(tuple(answer))\n",
        "#       #print(str_answer)\n",
        "#       #vibo: сортирую список списков по последнему значению вложенного tuple\n",
        "#       str_answer = sorted(str_answer, key=itemgetter(2))\n",
        "#       #vibo: добавляю в итоговой список результаты одного экспермента\n",
        "#       total_answer.append(str_answer)\n",
        "\n",
        "#     #vibo: вывод итогового списка    \n",
        "#     for i in range(len(total_answer)):\n",
        "#       print('\\n{} эксперимент:'.format(i+1))\n",
        "#       for j in range(len(total_answer[i])):\n",
        "#         print(total_answer[i][j])"
      ],
      "metadata": {
        "id": "gmJiXkOnGKT4"
      },
      "execution_count": null,
      "outputs": []
    },
    {
      "cell_type": "code",
      "source": [
        "# #vibo: запускаем готовую функцию (исходный индекс, вопрос-кандидат, косунусное расстояние)\n",
        "# rank_candidates(str(questions), candidates,  wv_embeddings, tokenizer, dim=200)\n",
        "\n",
        "#vibo: НЕ ВЕРНЫЙ РЕЗУЛЬТАТ! Я СДЕЛАЛ СРАВНЕНИЕ ОДНОГО ВОПРОСА (СКЛЕИЛ ДВА STR) ДЛЯ ДВУХ БЛОКОВ\n",
        "#vibo: нужно было из списка questions взять один str и сравнивать его с первым блоком вопросов, второй вопрос со вторым\n",
        "#vibo: за-то разобрался как итерироваться по списку списков и как его сортировать по нужному значению)"
      ],
      "metadata": {
        "id": "cHx_pw-mwbYs"
      },
      "execution_count": null,
      "outputs": []
    },
    {
      "cell_type": "code",
      "source": [
        "# #vibo: сортировка по списку списков\n",
        "# from operator import itemgetter\n",
        "# sorted([(0, 'bla bla 0', 0.4), (1, 'bla bla 2', 0.3), (2, 'bla bla', 0.7)], key=itemgetter(2))"
      ],
      "metadata": {
        "colab": {
          "base_uri": "https://localhost:8080/"
        },
        "id": "jEdzenDarNZF",
        "outputId": "20264bb8-3284-40fc-98b8-5f057aafa8d9"
      },
      "execution_count": null,
      "outputs": [
        {
          "output_type": "execute_result",
          "data": {
            "text/plain": [
              "[(1, 'bla bla 2', 0.3), (0, 'bla bla 0', 0.4), (2, 'bla bla', 0.7)]"
            ]
          },
          "metadata": {},
          "execution_count": 58
        }
      ]
    },
    {
      "cell_type": "code",
      "source": [
        "# #vibo: проверил тестовый вопрос, норм\n",
        "# question_to_vec(\"converting string to list', 'Sending array via Ajax fails\", wv_embeddings, tokenizer)"
      ],
      "metadata": {
        "id": "yFimZSQHl4GS"
      },
      "execution_count": null,
      "outputs": []
    },
    {
      "cell_type": "code",
      "source": [
        "# #vibo: проверяю косинусное расстояние до 0 предложения эксперимента 1\n",
        "# ds.cosine(question_to_vec('converting string to list', wv_embeddings, tokenizer),\\\n",
        "#           question_to_vec('Convert Google results object (pure js) to Python object', wv_embeddings, tokenizer))"
      ],
      "metadata": {
        "colab": {
          "base_uri": "https://localhost:8080/"
        },
        "id": "E4OzGzwdFvS9",
        "outputId": "74e324cc-9ba8-4308-95c9-527524b71da1"
      },
      "execution_count": null,
      "outputs": [
        {
          "output_type": "execute_result",
          "data": {
            "text/plain": [
              "0.5211371916050211"
            ]
          },
          "metadata": {},
          "execution_count": 116
        }
      ]
    },
    {
      "cell_type": "code",
      "source": [
        "# #vibo: проверяю косинусное расстояние до 0 предложения эксперимента 2\n",
        "# ds.cosine(question_to_vec('Sending array via Ajax fails', wv_embeddings, tokenizer),\\\n",
        "#           question_to_vec('Getting all list items of an unordered list in PHP', wv_embeddings, tokenizer))"
      ],
      "metadata": {
        "colab": {
          "base_uri": "https://localhost:8080/"
        },
        "id": "OETPyligpoPE",
        "outputId": "799c33fe-8984-454c-9928-edb6b5dc0bee"
      },
      "execution_count": null,
      "outputs": [
        {
          "output_type": "execute_result",
          "data": {
            "text/plain": [
              "0.5430452360795037"
            ]
          },
          "metadata": {},
          "execution_count": 113
        }
      ]
    },
    {
      "cell_type": "code",
      "source": [
        "# #vibo: проверяю косинусное расстояние до 1 предложения эксперимента 2\n",
        "# ds.cosine(question_to_vec('Sending array via Ajax fails', wv_embeddings, tokenizer),\\\n",
        "#           question_to_vec('WPF- How to update the changes in list item of a list', wv_embeddings, tokenizer))"
      ],
      "metadata": {
        "colab": {
          "base_uri": "https://localhost:8080/"
        },
        "id": "ocsR6prXqNWT",
        "outputId": "a5d67347-10a1-4a43-c62a-e9240ae7fd10"
      },
      "execution_count": null,
      "outputs": [
        {
          "output_type": "execute_result",
          "data": {
            "text/plain": [
              "0.5231087593402363"
            ]
          },
          "metadata": {},
          "execution_count": 114
        }
      ]
    },
    {
      "cell_type": "code",
      "source": [
        "# #vibo: проверяю косинусное расстояние до 2 предложения эксперимента 2\n",
        "# ds.cosine(question_to_vec('Sending array via Ajax fails', wv_embeddings, tokenizer),\\\n",
        "#           question_to_vec('select2 not displaying search results', wv_embeddings, tokenizer))"
      ],
      "metadata": {
        "colab": {
          "base_uri": "https://localhost:8080/"
        },
        "id": "53Ph2unvqd7b",
        "outputId": "60a703f5-6b30-40d0-8069-cf50d022c5aa"
      },
      "execution_count": null,
      "outputs": [
        {
          "output_type": "execute_result",
          "data": {
            "text/plain": [
              "0.8367096496761899"
            ]
          },
          "metadata": {},
          "execution_count": 115
        }
      ]
    },
    {
      "cell_type": "code",
      "source": [
        "#vibo: без исключения nan (сортировка по cos_dist в строках с nan не работает)\n",
        "#vibo: соответсвенно предложение q+ всегда оставалось на 1-позиции, что приводило к завышенным  метрикам\n",
        "\n",
        "# #vibo: импорт, чтобы ниже произвести сортировку по индексу\n",
        "# from operator import itemgetter\n",
        "\n",
        "# def rank_candidates(question, candidates, embeddings, tokenizer, dim=200):\n",
        "#     \"\"\"\n",
        "#         question: строка\n",
        "#         candidates: массив строк(кандидатов) [a, b, c]\n",
        "#         result: пары (начальная позиция, кандидат) [(2, c), (0, a), (1, b)]\n",
        "#     \"\"\"\n",
        "#     '''your code'''\n",
        "    \n",
        "#     #vibo: переводим вопрос в векторное представление\n",
        "#     test_question = question_to_vec(question, embeddings, tokenizer, dim=200)\n",
        "#     #print(test_question)\n",
        "\n",
        "#     #vibo: обход списка\n",
        "#     str_answer = []   \n",
        "#     for i in range(len(candidates)):\n",
        "#         #vibo: считаем вектороное представление кандидата\n",
        "#         test_candidat = question_to_vec(candidates[i], embeddings, tokenizer, dim=200)\n",
        "#         #vibo: считаем косинусное расстояние между \n",
        "#         cos_dist = ds.cosine(test_question, test_candidat)\n",
        "#         answer = []\n",
        "#         #vibo: добавляем исходный индекс предложения-кандидата\n",
        "#         answer.append(i)\n",
        "#         #vibo: добавляем текст предложения-кандидата\n",
        "#         answer.append(candidates[i])\n",
        "#         #vibo: добавляем косинусное расстояние в список\n",
        "#         answer.append(cos_dist)\n",
        "#         #vibo: добавляем в итоговый список список индекс - вопрос\n",
        "#         str_answer.append(answer)\n",
        "#     #vibo: сортирую список по последнему значению (косинусное расстояние)\n",
        "#     str_answer = sorted(str_answer, key=itemgetter(2))\n",
        "#     #vibo: теперь из каждого вложенного списка нужно убрать cos_dist\n",
        "#     # for i in str_answer:\n",
        "#     #   cos_dist = i.pop(2)\n",
        "\n",
        "#     #vibo: как я понял по условию задачи делаем (индекс,  предложение) tuple\n",
        "#     total_list = []\n",
        "#     for i in str_answer:\n",
        "#       result = tuple(i)\n",
        "#       total_list.append(result)\n",
        "\n",
        "#     return total_list"
      ],
      "metadata": {
        "id": "pp_Es1Ld_WO-"
      },
      "execution_count": null,
      "outputs": []
    },
    {
      "cell_type": "markdown",
      "source": [
        "# !!!rank_candidates"
      ],
      "metadata": {
        "id": "9Ftp8CtXQbuS"
      }
    },
    {
      "cell_type": "code",
      "source": [
        "#vibo: импорт, чтобы ниже произвести сортировку по индексу\n",
        "#vibo: с исключением строк с cos_dist = nan (иначе сортировка не работает)\n",
        "#vibo: введя фильтр nan для обучаемых эмбедингов получил исключение одной строки q+ и все сломалось\n",
        "\n",
        "import math\n",
        "from operator import itemgetter\n",
        "\n",
        "def rank_candidates(question, candidates, embeddings, tokenizer, dim=200):\n",
        "    \"\"\"\n",
        "        question: строка\n",
        "        candidates: массив строк(кандидатов) [a, b, c]\n",
        "        result: пары (начальная позиция, кандидат) [(2, c), (0, a), (1, b)]\n",
        "    \"\"\"\n",
        "    '''your code'''\n",
        "    \n",
        "    #vibo: переводим вопрос в векторное представление\n",
        "    test_question = question_to_vec(question, embeddings, tokenizer, dim=200)\n",
        "    #print(test_question)\n",
        "\n",
        "    #vibo: обход списка\n",
        "    str_answer = []   \n",
        "    for i in range(len(candidates)):\n",
        "        #vibo: считаем вектороное представление кандидата\n",
        "        test_candidat = question_to_vec(candidates[i], embeddings, tokenizer, dim=200)\n",
        "        #vibo: считаем косинусное расстояние между \n",
        "        cos_dist = ds.cosine(test_question, test_candidat)\n",
        "        answer = []\n",
        "        #vibo: добавляем исходный индекс предложения-кандидата\n",
        "        answer.append(i)\n",
        "        #vibo: добавляем текст предложения-кандидата\n",
        "        answer.append(candidates[i])\n",
        "        #vibo: добавляем косинусное расстояние в список\n",
        "        answer.append(cos_dist)\n",
        "        \n",
        "        # #vibo: проверка на nan\n",
        "        # if math.isnan(cos_dist):\n",
        "        #   pass\n",
        "        # else:\n",
        "        #   #vibo: добавляем в итоговый список список индекс - вопрос\n",
        "        #   str_answer.append(answer)\n",
        "\n",
        "        str_answer.append(answer)\n",
        "    \n",
        "    #vibo: сортирую список по последнему значению (косинусное расстояние)\n",
        "    str_answer = sorted(str_answer, key=itemgetter(2))\n",
        "    #vibo: теперь из каждого вложенного списка нужно убрать cos_dist\n",
        "    # for i in str_answer:\n",
        "    #   cos_dist = i.pop(2)\n",
        "\n",
        "    #vibo: как я понял по условию задачи делаем (индекс,  предложение) tuple\n",
        "    total_list = []\n",
        "    for i in str_answer:\n",
        "      result = tuple(i)\n",
        "      total_list.append(result)\n",
        "\n",
        "    return total_list"
      ],
      "metadata": {
        "id": "KBPtgst_TIUJ"
      },
      "execution_count": 33,
      "outputs": []
    },
    {
      "cell_type": "code",
      "source": [
        "# #vibo: отрезаем элемент tuple (потом переделал на list и убрал через pop)\n",
        "# str_answer = [(0, 'bla bla 0', 0.4), (1, 'bla bla 2', 0.3), (2, 'bla bla 3', 0.7)]\n",
        "# for i in range(len(str_answer)):\n",
        "#       result = str_answer[i][0:2]\n",
        "#       print(result)"
      ],
      "metadata": {
        "colab": {
          "base_uri": "https://localhost:8080/"
        },
        "id": "wumCH5NWKdZ7",
        "outputId": "c2b2879d-bf92-4363-dc59-aa26e015e056"
      },
      "execution_count": null,
      "outputs": [
        {
          "output_type": "stream",
          "name": "stdout",
          "text": [
            "(0, 'bla bla 0')\n",
            "(1, 'bla bla 2')\n",
            "(2, 'bla bla 3')\n"
          ]
        }
      ]
    },
    {
      "cell_type": "code",
      "source": [
        "# # #vibo: отрезаем элемент tuple (потом переделал на list и убрал через pop)\n",
        "# t = (0, 'bla bla 0', 0.4)\n",
        "# t = t[:-1]\n",
        "# t"
      ],
      "metadata": {
        "colab": {
          "base_uri": "https://localhost:8080/"
        },
        "id": "5T8NypyANm4R",
        "outputId": "d72c0046-2402-4050-ba8e-b6f4b4f786d9"
      },
      "execution_count": null,
      "outputs": [
        {
          "output_type": "execute_result",
          "data": {
            "text/plain": [
              "(0, 'bla bla 0')"
            ]
          },
          "metadata": {},
          "execution_count": 272
        }
      ]
    },
    {
      "cell_type": "markdown",
      "metadata": {
        "id": "TnBszTb76j3c"
      },
      "source": [
        "Протестируйте работу функции на примерах ниже. Пусть $N=2$, то есть два эксперимента"
      ]
    },
    {
      "cell_type": "code",
      "metadata": {
        "id": "xvQgtP176j3h"
      },
      "source": [
        "questions = ['converting string to list', 'Sending array via Ajax fails'] \n",
        "\n",
        "candidates = [['Convert Google results object (pure js) to Python object', # первый эксперимент\n",
        "               'C# create cookie from string and send it',\n",
        "               'How to use jQuery AJAX for an outside domain?'],\n",
        "              \n",
        "              ['Getting all list items of an unordered list in PHP',      # второй эксперимент\n",
        "               'WPF- How to update the changes in list item of a list',\n",
        "               'select2 not displaying search results']]"
      ],
      "execution_count": 34,
      "outputs": []
    },
    {
      "cell_type": "code",
      "metadata": {
        "id": "bPj1JGFi6j3m",
        "colab": {
          "base_uri": "https://localhost:8080/"
        },
        "outputId": "adfb986d-8c1d-4f2c-c69e-0d03b2dbcd2e"
      },
      "source": [
        "#vibo: проверяем результат для эксперимента 1 - 102 (верно), для эксперимента 2 - 102\n",
        "for question, q_candidates in zip(questions, candidates):\n",
        "        ranks = rank_candidates(question, q_candidates, wv_embeddings, base_tokenizer)\n",
        "        print(ranks)\n",
        "        print()"
      ],
      "execution_count": 35,
      "outputs": [
        {
          "output_type": "stream",
          "name": "stdout",
          "text": [
            "[(1, 'C# create cookie from string and send it', 0.453709024768017), (0, 'Convert Google results object (pure js) to Python object', 0.5211371916050211), (2, 'How to use jQuery AJAX for an outside domain?', 0.838115468996391)]\n",
            "\n",
            "[(1, 'WPF- How to update the changes in list item of a list', 0.5231087593402363), (0, 'Getting all list items of an unordered list in PHP', 0.5430452360795037), (2, 'select2 not displaying search results', 0.8367096496761899)]\n",
            "\n"
          ]
        }
      ]
    },
    {
      "cell_type": "markdown",
      "metadata": {
        "id": "jm4cidj56j3q"
      },
      "source": [
        "Для первого экперимента вы можете полностью сравнить ваши ответы и правильные ответы. Но для второго эксперимента два ответа на кандидаты будут <b>скрыты</b>(*)"
      ]
    },
    {
      "cell_type": "code",
      "metadata": {
        "id": "0LeKMIsn6j3s"
      },
      "source": [
        "# должно вывести\n",
        "results = [[(1, 'C# create cookie from string and send it'),\n",
        "            (0, 'Convert Google results object (pure js) to Python object'),\n",
        "            (2, 'How to use jQuery AJAX for an outside domain?')],\n",
        "           [(*, 'Getting all list items of an unordered list in PHP'), #скрыт\n",
        "            (*, 'select2 not displaying search results'), #скрыт\n",
        "            (*, 'WPF- How to update the changes in list item of a list')]] #скрыт"
      ],
      "execution_count": null,
      "outputs": []
    },
    {
      "cell_type": "markdown",
      "metadata": {
        "id": "t1ttnIBe6j3x"
      },
      "source": [
        "Последовательность начальных индексов вы должны получить `для эксперимента 1`  1, 0, 2."
      ]
    },
    {
      "cell_type": "markdown",
      "metadata": {
        "id": "5WQgYDWd6j3y"
      },
      "source": [
        "#### Вопрос 5:\n",
        "* Какую последовательность начальных индексов вы получили `для эксперимента 2`(перечисление без запятой и пробелов, например, `102` для первого эксперимента?"
      ]
    },
    {
      "cell_type": "markdown",
      "source": [
        "#### **Ответ на вопрос 5**: 102"
      ],
      "metadata": {
        "id": "nG642gMB1ELC"
      }
    },
    {
      "cell_type": "markdown",
      "metadata": {
        "id": "fPllOY-Y6j30"
      },
      "source": [
        "Теперь мы можем оценить качество нашего метода. Запустите следующие два блока кода для получения результата. Обратите внимание, что вычисление расстояния между векторами занимает некоторое время (примерно 10 минут). Можете взять для validation 1000 примеров."
      ]
    },
    {
      "cell_type": "code",
      "metadata": {
        "id": "nu7K4mis6j32",
        "colab": {
          "base_uri": "https://localhost:8080/",
          "height": 49,
          "referenced_widgets": [
            "1128fd531332412da615d8a616a714fc",
            "ccfd0fb69f5d4ca4bbf8dab9ad67a5a0",
            "b4bbb7947181468d8bb2f34f1b94eba6",
            "cb6817c3c4ee46ce85a6da545fd4294c",
            "5faeb28a780a40b59ada187ca8a58257",
            "381a9cec211c452095e99f0860e84f70",
            "a8e297a4ef3845b48c82204a50e2f965",
            "e74ec0aa30f3430fb7a8fad33d2fae7b",
            "b04118814c24452aa7be0bee3acea5ac",
            "5b43a562528947c19937010279d0b0cf",
            "ced1ba642e194bc2a67aec84da19ba8b"
          ]
        },
        "outputId": "b9bebfc7-7815-4cbd-fefe-f79feddf96eb"
      },
      "source": [
        "from tqdm.notebook import tqdm\n",
        "\n",
        "#vibo: проходим по заготовленным данным, ограничиваясь 1000 строк\n",
        "#vibo: вычисляем для каждого предложения cos_dist, сортируем по возрастанию и определеяем итоговую позицию q+ \n",
        "wv_ranking = []\n",
        "max_validation_examples = 1000\n",
        "#vibo: формируем данные для подачи в rank_candidates\n",
        "for i, line in enumerate(tqdm(validation_data)):\n",
        "    #vibo: вводим ограничение на 1000 строк\n",
        "    if i == max_validation_examples:\n",
        "        break\n",
        "    #vibo: используем tqdm, делаем список q и список example (1000)\n",
        "    q, *ex = line\n",
        "\n",
        "    #vibo: вызываем функцию rank_candidates\n",
        "    #vibo: функция возвращает порядковый номер вопроса q+, с индексом 0\n",
        "    #vibo: главное было сделать строку из 1001 элемента, 1 вопрос + 1000 example (с одним оригинальным дубликатом)\n",
        "    ranks = rank_candidates(q, ex, wv_embeddings, base_tokenizer)\n",
        "\n",
        "    # #wv_ranking.append([r[0] for r in ranks].index('0') + 1)\n",
        "    # #vibo: спасибо чату https://t.me/dls_spring2022_part2\n",
        "    #vibo: делаем список из рейтинга предложений\n",
        "    wv_ranking.append([r[0] for r in ranks].index(0) + 1)"
      ],
      "execution_count": 36,
      "outputs": [
        {
          "output_type": "display_data",
          "data": {
            "text/plain": [
              "  0%|          | 0/3760 [00:00<?, ?it/s]"
            ],
            "application/vnd.jupyter.widget-view+json": {
              "version_major": 2,
              "version_minor": 0,
              "model_id": "1128fd531332412da615d8a616a714fc"
            }
          },
          "metadata": {}
        }
      ]
    },
    {
      "cell_type": "code",
      "source": [
        "# #vibo: смотрим на итоги сортировки последнего эксперимента\n",
        "# ranks"
      ],
      "metadata": {
        "id": "htM1R36DeSTY"
      },
      "execution_count": null,
      "outputs": []
    },
    {
      "cell_type": "code",
      "source": [
        "#vibo: подсчет номеров\n",
        "from collections import Counter\n",
        "print(Counter(wv_ranking))\n",
        "#vibo: итого из 1000 экспериментов модель 415 раз верно нашла истинный дубликат вопроса"
      ],
      "metadata": {
        "colab": {
          "base_uri": "https://localhost:8080/"
        },
        "id": "QVS1qiqNgPpj",
        "outputId": "9c5f23d5-b55d-46a2-f036-9362ed6d8220"
      },
      "execution_count": 37,
      "outputs": [
        {
          "output_type": "stream",
          "name": "stdout",
          "text": [
            "Counter({1: 415, 2: 67, 3: 45, 4: 33, 5: 22, 6: 19, 8: 15, 10: 13, 12: 13, 7: 11, 9: 11, 13: 11, 11: 9, 14: 8, 16: 7, 41: 7, 34: 7, 51: 6, 17: 6, 18: 6, 23: 5, 25: 5, 20: 5, 42: 4, 91: 4, 67: 4, 128: 4, 31: 4, 83: 4, 29: 4, 64: 4, 47: 4, 49: 4, 26: 3, 28: 3, 15: 3, 76: 3, 50: 3, 149: 3, 21: 3, 39: 3, 57: 3, 24: 3, 54: 3, 68: 3, 81: 3, 22: 3, 118: 3, 55: 3, 126: 2, 62: 2, 112: 2, 44: 2, 108: 2, 308: 2, 30: 2, 170: 2, 160: 2, 289: 2, 447: 2, 198: 2, 46: 2, 100: 2, 176: 2, 136: 2, 71: 2, 106: 2, 65: 2, 43: 2, 74: 2, 111: 2, 220: 2, 183: 2, 59: 2, 37: 2, 520: 1, 325: 1, 79: 1, 695: 1, 78: 1, 222: 1, 141: 1, 615: 1, 104: 1, 97: 1, 269: 1, 876: 1, 115: 1, 92: 1, 613: 1, 27: 1, 252: 1, 73: 1, 563: 1, 58: 1, 483: 1, 143: 1, 410: 1, 217: 1, 534: 1, 145: 1, 102: 1, 680: 1, 119: 1, 669: 1, 718: 1, 105: 1, 38: 1, 163: 1, 699: 1, 477: 1, 63: 1, 150: 1, 574: 1, 311: 1, 253: 1, 48: 1, 154: 1, 493: 1, 125: 1, 835: 1, 85: 1, 60: 1, 211: 1, 510: 1, 276: 1, 193: 1, 568: 1, 485: 1, 87: 1, 270: 1, 312: 1, 69: 1, 19: 1, 61: 1, 75: 1, 40: 1, 719: 1, 406: 1, 531: 1, 77: 1, 66: 1, 153: 1, 209: 1, 36: 1, 749: 1, 206: 1, 508: 1, 164: 1, 109: 1, 90: 1, 506: 1, 173: 1, 107: 1, 788: 1, 33: 1, 137: 1, 539: 1, 129: 1, 95: 1, 443: 1, 376: 1, 148: 1, 122: 1, 53: 1, 194: 1, 295: 1, 709: 1, 371: 1, 110: 1, 45: 1, 158: 1, 132: 1, 231: 1, 239: 1, 547: 1, 177: 1, 135: 1, 527: 1, 348: 1, 98: 1, 636: 1, 402: 1, 260: 1, 72: 1, 433: 1, 605: 1, 479: 1, 169: 1})\n"
          ]
        }
      ]
    },
    {
      "cell_type": "code",
      "metadata": {
        "scrolled": true,
        "id": "gDtS520v6j35",
        "colab": {
          "base_uri": "https://localhost:8080/",
          "height": 153,
          "referenced_widgets": [
            "1290b7ab46404eb0a3be3c22d1d0bc1a",
            "f5e3cb768cd74d748f6e2a6d17027a48",
            "c30f67a2cfd848f49915b1da2c9e7714",
            "b517ba7ad52140589e10ab6dd7f0a58a",
            "83dc5d2b202b4b5da96b246d085e438c",
            "3a9f5a2f64964cdcab522b2e0909d3fe",
            "a77006fd8c6a426eb9fc5ebbaf34d751",
            "0758970655354ec5a9978ed6a8ec1553",
            "507e5504317a4663a96483bf704d98f2",
            "63976d1ba8914fc893ae3ab888226764",
            "40716fb424b74b1bb04ef00e9494fa80"
          ]
        },
        "outputId": "d8e0da90-01fd-4eec-df5a-17981f1cb3be"
      },
      "source": [
        "#vibo: расчет метрик для разных k\n",
        "for k in tqdm([1, 5, 10, 100, 500, 1000]):\n",
        "    print(\"DCG@%4d: %.3f | Hits@%4d: %.3f\" % (k, dcg_score(wv_ranking, k), k, hits_count(wv_ranking, k)))"
      ],
      "execution_count": 38,
      "outputs": [
        {
          "output_type": "display_data",
          "data": {
            "text/plain": [
              "  0%|          | 0/6 [00:00<?, ?it/s]"
            ],
            "application/vnd.jupyter.widget-view+json": {
              "version_major": 2,
              "version_minor": 0,
              "model_id": "1290b7ab46404eb0a3be3c22d1d0bc1a"
            }
          },
          "metadata": {}
        },
        {
          "output_type": "stream",
          "name": "stdout",
          "text": [
            "DCG@   1: 0.415 | Hits@   1: 0.415\n",
            "DCG@   5: 0.502 | Hits@   5: 0.582\n",
            "DCG@  10: 0.525 | Hits@  10: 0.651\n",
            "DCG@ 100: 0.570 | Hits@ 100: 0.874\n",
            "DCG@ 500: 0.583 | Hits@ 500: 0.973\n",
            "DCG@1000: 0.586 | Hits@1000: 1.000\n"
          ]
        }
      ]
    },
    {
      "cell_type": "code",
      "source": [
        "#vibo: обе метрики возрастают с ростом k (абсолютный максимум метрик в 1, минимум 0)\n",
        "#vibo: в данном эксперименте мы проверяем какое место в итоговом списке занял вопрос - оригинальный дубликат\n",
        "#vibo: всего мест 1000, теперь к метрикам:\n",
        "\n",
        "#vibo: метрика Hits говорит о том сколько раз оригинальный дубликат попал в интервал [1(первое место), k (k-тое место)]\n",
        "#vibo: видно, что с увеличением k метрика увеличивается и не доходя до k = 1000, при k=500 становится равной 1\n",
        "#vibo: это говорит о том, что ниже 500 места наш оригинал-дубликат не занимал\n",
        "\n",
        "#vibo: чем наш оригинал дубликат ближе к 1 месту, тем метрика ближе к 1\n",
        "\n",
        "#vibo: после добавления lower() в read_corpus метрики ухудшились, но это более корректный результат"
      ],
      "metadata": {
        "id": "l2-rkchSLko4"
      },
      "execution_count": null,
      "outputs": []
    },
    {
      "cell_type": "markdown",
      "metadata": {
        "id": "LL6_Rjg3InL8"
      },
      "source": [
        "### Эмбеддинги, обученные на корпусе похожих вопросов"
      ]
    },
    {
      "cell_type": "code",
      "metadata": {
        "id": "iNvbpR5gJIPz"
      },
      "source": [
        "#vibo: вызываем read_corpus (выше вызывали для validation)\n",
        "train_data = read_corpus('./data/train.tsv')"
      ],
      "execution_count": 39,
      "outputs": []
    },
    {
      "cell_type": "code",
      "source": [
        "len(train_data)"
      ],
      "metadata": {
        "colab": {
          "base_uri": "https://localhost:8080/"
        },
        "id": "vKdYQ5PioImZ",
        "outputId": "7bb6a814-0e17-4456-93d9-cba61a90b83d"
      },
      "execution_count": 40,
      "outputs": [
        {
          "output_type": "execute_result",
          "data": {
            "text/plain": [
              "2255"
            ]
          },
          "metadata": {},
          "execution_count": 40
        }
      ]
    },
    {
      "cell_type": "code",
      "source": [
        "len(train_data[0])"
      ],
      "metadata": {
        "colab": {
          "base_uri": "https://localhost:8080/"
        },
        "id": "ZFlXCHUVoO8e",
        "outputId": "a0d81bd8-ab1e-426b-a744-29d13f88ca20"
      },
      "execution_count": 41,
      "outputs": [
        {
          "output_type": "execute_result",
          "data": {
            "text/plain": [
              "1001"
            ]
          },
          "metadata": {},
          "execution_count": 41
        }
      ]
    },
    {
      "cell_type": "code",
      "source": [
        "train_data[0][0:2]"
      ],
      "metadata": {
        "colab": {
          "base_uri": "https://localhost:8080/"
        },
        "id": "4cPw1zkQoUtP",
        "outputId": "adbbb70e-672a-4f74-903c-5c7895d5fcd5"
      },
      "execution_count": 42,
      "outputs": [
        {
          "output_type": "execute_result",
          "data": {
            "text/plain": [
              "['converting string to list',\n",
              " 'convert google results object (pure js) to python object\\n']"
            ]
          },
          "metadata": {},
          "execution_count": 42
        }
      ]
    },
    {
      "cell_type": "code",
      "source": [
        "train_data[1][0:2]"
      ],
      "metadata": {
        "colab": {
          "base_uri": "https://localhost:8080/"
        },
        "id": "YjRYnIovoedB",
        "outputId": "13ffd071-1020-4274-c81e-a942342f981a"
      },
      "execution_count": 43,
      "outputs": [
        {
          "output_type": "execute_result",
          "data": {
            "text/plain": [
              "['messagequeueexception (0x80004005): access to message queuing system is denied',\n",
              " 'win service getting permission denied to message queuing\\n']"
            ]
          },
          "metadata": {},
          "execution_count": 43
        }
      ]
    },
    {
      "cell_type": "markdown",
      "metadata": {
        "id": "Nr281ZyEJfjT"
      },
      "source": [
        "Улучшите качество модели.<br>Склеим вопросы в пары и обучим на них модель Word2Vec из gensim. Выберите размер window. Объясните свой выбор."
      ]
    },
    {
      "cell_type": "code",
      "source": [
        "'''your code'''\n",
        "\n",
        "#vibo: сбственно выше вызвал функцию read_corpus но уже для трейн дата\n",
        "#vibo: получили строчки по 1001 элементу из которых оставить нужно только первые два \n",
        "#vibo: т.е. оригинальный вопрос и дубликат - делаем обучающую выборку, от каждой строки нужно отрезать вопрос q и q+\n",
        "total_res = []\n",
        "#vibo: идем по списку и склеиваем первое и второе предложения\n",
        "for i in train_data:\n",
        "    # print(i[0])\n",
        "    # print(i[1])\n",
        "    res = i[0] + ' ' + i[1]\n",
        "    total_res.append(res)\n",
        "    # print(total_res)"
      ],
      "metadata": {
        "id": "ScxuDhWAQcTW"
      },
      "execution_count": 44,
      "outputs": []
    },
    {
      "cell_type": "code",
      "source": [
        "#vibo: посмотрим как выглядит обучающий датасет\n",
        "total_res[0:6]\n",
        "#vibo: когда мы склеили две строки в одну (q_оригинал и q+_истиный дубликат) - дали возможность модели найти закономерность в схожести этих вух строк"
      ],
      "metadata": {
        "colab": {
          "base_uri": "https://localhost:8080/"
        },
        "id": "18DR84zkxTBk",
        "outputId": "db1ee57d-0f6b-4846-df5f-1751ff5cf4e9"
      },
      "execution_count": 45,
      "outputs": [
        {
          "output_type": "execute_result",
          "data": {
            "text/plain": [
              "['converting string to list convert google results object (pure js) to python object\\n',\n",
              " 'messagequeueexception (0x80004005): access to message queuing system is denied win service getting permission denied to message queuing\\n',\n",
              " 'how to run my own external command in python script\\n could not load file or assembly microsoft.sqlserver.management.sdk.sfc version 11.0.0.0',\n",
              " \"rails sends 0 byte files using send_file\\n what's happening in queryset converting to list\",\n",
              " 'strange android recyclerview (gridlayoutmanager) focus behavior recyclerview focus scrolling\\n',\n",
              " 'php date range array for the last 40 sundays\\n objective c - how to know if point is inside a quarter of circle?']"
            ]
          },
          "metadata": {},
          "execution_count": 45
        }
      ]
    },
    {
      "cell_type": "markdown",
      "source": [
        "# !!! pymorphy2.MorphAnalyzer (нормализация -> лемматизация)"
      ],
      "metadata": {
        "id": "pY6F2yTskHDv"
      }
    },
    {
      "cell_type": "code",
      "source": [
        "# #vibo: делаем лемматизацию - процесс приведения словоформы к лемме — её нормальной (словарной) форме\n",
        "\n",
        "# #vibo: библиотека pymorphy2 - только отдельное слово, контекст не применяется поэтому строчку сплитим\n",
        "# #vibo: флаг -q чтобы не было лишних логов\n",
        "# !pip install -q pymorphy2\n",
        "\n",
        "# import pymorphy2\n",
        "# morph = pymorphy2.MorphAnalyzer()\n",
        "\n",
        "# words = []\n",
        "# for line in total_res:\n",
        "#   #print(line)\n",
        "#   pymorphy_results = list(map(lambda x: morph.parse(x), line.split(' ')))\n",
        "#   #print(pymorphy_results)\n",
        "#   new_string =(' '.join([res[0].normal_form for res in pymorphy_results]))\n",
        "#   #print(new_string)\n",
        "#   tokens = base_tokenizer.tokenize(new_string)\n",
        "#   #print(tokens)\n",
        "#   words.append(tokens)\n",
        "\n",
        "# #vibo: результат относительно стекинга PorterStemmer ухудшился\n",
        "# '''\n",
        "# DCG@   1: 0.152 | Hits@   1: 0.152\n",
        "# DCG@   5: 0.201 | Hits@   5: 0.246\n",
        "# DCG@  10: 0.217 | Hits@  10: 0.297\n",
        "# DCG@ 100: 0.268 | Hits@ 100: 0.558\n",
        "# DCG@ 500: 0.318 | Hits@ 500: 0.941\n",
        "# DCG@1000: 0.324 | Hits@1000: 1.000\n",
        "# '''"
      ],
      "metadata": {
        "id": "RnPoPrtk2wWx"
      },
      "execution_count": null,
      "outputs": []
    },
    {
      "cell_type": "markdown",
      "source": [
        "# !!! spacy (нормализация -> лемматизация)"
      ],
      "metadata": {
        "id": "7qW3s1jWkfxC"
      }
    },
    {
      "cell_type": "code",
      "source": [
        "# #vibo: делаем лемматизацию - процесс приведения словоформы к лемме — её нормальной (словарной) форме\n",
        "\n",
        "# #vibo: пробую применить библиотека spacy работает контекстно, это нейросетевый подход (не работает с русским в открытом доступе)\n",
        "# #vibo: контекст учитывается, поэтому сплитить строку не нужно\n",
        "\n",
        "# import spacy\n",
        "# #vibo: создаем объект nlp\n",
        "# nlp = spacy.load('en')\n",
        "\n",
        "# words = []\n",
        "# for line in total_res:\n",
        "#   #vibo: закидываем в объект nlp текст\n",
        "#   spacy_results = nlp(line)\n",
        "#   #vibo: получаем начальные формы\n",
        "#   new_string = (' '.join([token.lemma_ for token in spacy_results]))\n",
        "#   tokens = base_tokenizer.tokenize(new_string)\n",
        "#   #print(tokens)\n",
        "#   words.append(tokens)\n",
        "\n",
        "# #vibo: результат относительно pymorphy2 улучшился, но стемминг был лучше\n",
        "# '''\n",
        "# DCG@   1: 0.159 | Hits@   1: 0.159\n",
        "# DCG@   5: 0.221 | Hits@   5: 0.277\n",
        "# DCG@  10: 0.237 | Hits@  10: 0.326\n",
        "# DCG@ 100: 0.302 | Hits@ 100: 0.660\n",
        "# DCG@ 500: 0.344 | Hits@ 500: 0.979\n",
        "# DCG@1000: 0.346 | Hits@1000: 1.000\n",
        "# '''"
      ],
      "metadata": {
        "colab": {
          "base_uri": "https://localhost:8080/",
          "height": 54
        },
        "id": "_ZcbglXI6XYS",
        "outputId": "a87ae236-bc80-43b6-bd14-71c6db5ab3d3"
      },
      "execution_count": null,
      "outputs": [
        {
          "output_type": "execute_result",
          "data": {
            "text/plain": [
              "'\\nDCG@   1: 0.159 | Hits@   1: 0.159\\nDCG@   5: 0.221 | Hits@   5: 0.277\\nDCG@  10: 0.237 | Hits@  10: 0.326\\nDCG@ 100: 0.302 | Hits@ 100: 0.660\\nDCG@ 500: 0.344 | Hits@ 500: 0.979\\nDCG@1000: 0.346 | Hits@1000: 1.000\\n'"
            ],
            "application/vnd.google.colaboratory.intrinsic+json": {
              "type": "string"
            }
          },
          "metadata": {},
          "execution_count": 355
        }
      ]
    },
    {
      "cell_type": "code",
      "source": [
        "# #vibo: работа токенайзера из начала ноутбука для первой строки\n",
        "# print(base_tokenizer.tokenize('converting string to list Convert Google results object (pure js) to Python object\\n'))"
      ],
      "metadata": {
        "colab": {
          "base_uri": "https://localhost:8080/"
        },
        "id": "a09PT75gBvw9",
        "outputId": "d3f1f2fd-2249-4d5d-8fd9-c13f732c66dd"
      },
      "execution_count": null,
      "outputs": [
        {
          "output_type": "stream",
          "name": "stdout",
          "text": [
            "['converting', 'string', 'to', 'list', 'Convert', 'Google', 'results', 'object', 'pure', 'js', 'to', 'Python', 'object']\n"
          ]
        }
      ]
    },
    {
      "cell_type": "markdown",
      "source": [
        "# !!! base_tokenizer vs nltk.tokenize"
      ],
      "metadata": {
        "id": "g9RwUxa-HNDn"
      }
    },
    {
      "cell_type": "code",
      "source": [
        "#vibo: каждую строку нужно токенизировать для подачи в Word2Vec\n",
        "words = [base_tokenizer.tokenize(line) for line in total_res]"
      ],
      "metadata": {
        "id": "bTUBoyTi96E2"
      },
      "execution_count": 46,
      "outputs": []
    },
    {
      "cell_type": "code",
      "source": [
        "# import nltk\n",
        "# nltk.download('punkt')\n",
        "# from nltk.tokenize import word_tokenize"
      ],
      "metadata": {
        "colab": {
          "base_uri": "https://localhost:8080/"
        },
        "id": "19zWFayXF_lg",
        "outputId": "724d31e5-9c0b-4d72-e913-5758367c5d76"
      },
      "execution_count": 21,
      "outputs": [
        {
          "output_type": "stream",
          "name": "stdout",
          "text": [
            "[nltk_data] Downloading package punkt to /root/nltk_data...\n",
            "[nltk_data]   Package punkt is already up-to-date!\n"
          ]
        }
      ]
    },
    {
      "cell_type": "code",
      "source": [
        "# words = [word_tokenize(line) for line in total_res]"
      ],
      "metadata": {
        "id": "O7BTEjANHkhd"
      },
      "execution_count": 22,
      "outputs": []
    },
    {
      "cell_type": "code",
      "source": [
        "print(words[1])"
      ],
      "metadata": {
        "colab": {
          "base_uri": "https://localhost:8080/"
        },
        "id": "EZlDb_6VHxFz",
        "outputId": "2ab41e50-8690-48d4-ef79-93819be79865"
      },
      "execution_count": 47,
      "outputs": [
        {
          "output_type": "stream",
          "name": "stdout",
          "text": [
            "['messagequeueexception', '0x80004005', 'access', 'to', 'message', 'queuing', 'system', 'is', 'denied', 'win', 'service', 'getting', 'permission', 'denied', 'to', 'message', 'queuing']\n"
          ]
        }
      ]
    },
    {
      "cell_type": "markdown",
      "source": [
        "# !!! PorterStemmer vs. SnowballStemmer  (нормализация -> стемминг)"
      ],
      "metadata": {
        "id": "DE_x6OzykvoT"
      }
    },
    {
      "cell_type": "code",
      "source": [
        "#vibo: стемминг - процесс нахождения основы слова для заданного исходного слова\n",
        "from nltk.stem import PorterStemmer\n",
        "\n",
        "#vibo: вариант 1. PorterStemmer привел к улучшению\n",
        "ps = PorterStemmer()\n",
        "words = [list(map(ps.stem, line)) for line in words]\n",
        "# '''\n",
        "# DCG@   1: 0.189 | Hits@   1: 0.189\n",
        "# DCG@   5: 0.249 | Hits@   5: 0.302\n",
        "# DCG@  10: 0.269 | Hits@  10: 0.363\n",
        "# DCG@ 100: 0.346 | Hits@ 100: 0.760\n",
        "# DCG@ 500: 0.379 | Hits@ 500: 0.999\n",
        "# DCG@1000: 0.379 | Hits@1000: 1.000\n",
        "# '''\n",
        "\n",
        "# # from nltk.stem import SnowballStemmer\n",
        "\n",
        "# # #vibo: вариант 2. SnowballStemmer тоже привел к улучшению, но чуть хуже\n",
        "# # ss = SnowballStemmer(language='english')\n",
        "# # words = [list(map(ss.stem, line)) for line in words]\n",
        "# # '''\n",
        "# # DCG@   1: 0.181 | Hits@   1: 0.181\n",
        "# # DCG@   5: 0.242 | Hits@   5: 0.297\n",
        "# # DCG@  10: 0.262 | Hits@  10: 0.356\n",
        "# # DCG@ 100: 0.343 | Hits@ 100: 0.778\n",
        "# # DCG@ 500: 0.373 | Hits@ 500: 1.000\n",
        "# # DCG@1000: 0.373 | Hits@1000: 1.000\n",
        "# # '''"
      ],
      "metadata": {
        "id": "OcKBkaqhvP7i"
      },
      "execution_count": 48,
      "outputs": []
    },
    {
      "cell_type": "code",
      "source": [
        "#vibo: смотрим результат\n",
        "print(words[1])"
      ],
      "metadata": {
        "colab": {
          "base_uri": "https://localhost:8080/"
        },
        "id": "cSo6-k6CDF1K",
        "outputId": "1fd2e562-7de2-4209-9390-36549c2c0e6c"
      },
      "execution_count": 49,
      "outputs": [
        {
          "output_type": "stream",
          "name": "stdout",
          "text": [
            "['messagequeueexcept', '0x80004005', 'access', 'to', 'messag', 'queu', 'system', 'is', 'deni', 'win', 'servic', 'get', 'permiss', 'deni', 'to', 'messag', 'queu']\n"
          ]
        }
      ]
    },
    {
      "cell_type": "code",
      "source": [
        "len(words)"
      ],
      "metadata": {
        "colab": {
          "base_uri": "https://localhost:8080/"
        },
        "id": "8bktgQRrHHih",
        "outputId": "52daae80-561a-4a44-b95c-942aa30638c2"
      },
      "execution_count": 50,
      "outputs": [
        {
          "output_type": "execute_result",
          "data": {
            "text/plain": [
              "2255"
            ]
          },
          "metadata": {},
          "execution_count": 50
        }
      ]
    },
    {
      "cell_type": "code",
      "source": [
        "#vibo: после всей предобработки делаем эмбединги на трейн дате в Word2Vec\n",
        "from gensim.models import Word2Vec\n",
        "\n",
        "#vibo: размер эмбединга size, минимальное количество вхождений слова в корпус min_count, окно, которым идем по тексту window\n",
        "#vibo: window - окно, с помощью которого пытаемся понять контекст в котором используется слово\n",
        "#vibo: окно размера (n) значит берем по (n-1) слова справа и слева (для n=3: контект_слово, контекст_слово, слово, контекст_слово, контекст_слово)\n",
        "embeddings_trained = Word2Vec(words, # data for model to train on\n",
        "                 size=200,                 # embedding vector size\n",
        "                 min_count=5,             # consider words that occured at least 5 times\n",
        "                 window=5,\n",
        "                 #vibo: поменял training algorithm с CBOW на skip-gram (по умолчанию CBOW или sg=0), стало хуже\n",
        "                 sg=0).wv\n",
        "\n",
        "#vibo: два принципа работы w2vec\n",
        "#vibo: CBOW (Continuous Bag of Words) - пытаемся предсказать целевое слово с помощью контекста,\n",
        "#vibo: обычно лучше работает с небольшими датасетами. У нас всего 2255 предложений в обучающей выборке (со skip-gram метрики заметно упали)\n",
        "#vibo: Skip-Gram — пытаемся предсказать контекстные слова с помощью целевого слова. Skip-gram лучше работает на больших наборах данных."
      ],
      "metadata": {
        "id": "lojrlMjdqSOs"
      },
      "execution_count": 51,
      "outputs": []
    },
    {
      "cell_type": "code",
      "source": [
        "# #vibo: при приведении к lower() сортировка работает\n",
        "# rank_candidates('string', ['python', 'time', 'string'], embeddings_trained, base_tokenizer)"
      ],
      "metadata": {
        "colab": {
          "base_uri": "https://localhost:8080/"
        },
        "id": "6rtfTJzvH0R_",
        "outputId": "01ba3387-22a4-471e-e95f-2d74e1b2b2bd"
      },
      "execution_count": null,
      "outputs": [
        {
          "output_type": "execute_result",
          "data": {
            "text/plain": [
              "[(2, 'string', 0.0),\n",
              " (0, 'python', 5.486424873457629e-05),\n",
              " (1, 'time', 7.492115228524554e-05)]"
            ]
          },
          "metadata": {},
          "execution_count": 126
        }
      ]
    },
    {
      "cell_type": "code",
      "source": [
        "# #vibo: пример\n",
        "# import numpy as np\n",
        "# import scipy.spatial.distance as ds\n",
        "# v1 = np.array([-1.01422749, -1.68912624, -1.28541217, -1.37103013,  0.15916634])\n",
        "# v2 = np.array([0.0, 0.0, 0.0, 0.0, 0.0])\n",
        "# ds.cosine(v1, v2)"
      ],
      "metadata": {
        "colab": {
          "base_uri": "https://localhost:8080/"
        },
        "id": "abFErO4GKYK-",
        "outputId": "79bd5aed-acce-4fe2-fbdc-a110a6bb6897"
      },
      "execution_count": null,
      "outputs": [
        {
          "output_type": "stream",
          "name": "stderr",
          "text": [
            "/usr/local/lib/python3.7/dist-packages/scipy/spatial/distance.py:720: RuntimeWarning: invalid value encountered in double_scalars\n",
            "  dist = 1.0 - uv / np.sqrt(uu * vv)\n"
          ]
        },
        {
          "output_type": "execute_result",
          "data": {
            "text/plain": [
              "nan"
            ]
          },
          "metadata": {},
          "execution_count": 7
        }
      ]
    },
    {
      "cell_type": "code",
      "source": [
        "# #vibo: с учетом работы rank_candidates нужно в read_corpus обязательно делать lower()\n",
        "# #vibo: иначе получается вот такая хрень (нулевые строки дают cos_dist = nan, и сортировка rank_candidates не работает\n",
        "#vibo: а это приводит к завышенным метрикам, т.к. q+ всегда получается на 1-месте\n",
        "# rank_candidates('line', ['Python', 'Time', 'string', 'Time', 'line'], embeddings_trained, base_tokenizer)\n",
        "# #vibo: слова Python, Time - нет в словаре, их векторное представление 0 вектров dim=200\n",
        "# #vibo: косинусное расстояние до такого объекта nan"
      ],
      "metadata": {
        "colab": {
          "base_uri": "https://localhost:8080/"
        },
        "id": "emY-Q1Q2mMIp",
        "outputId": "f01b43e0-4dda-4ce2-c1ed-cd1b03614f4d"
      },
      "execution_count": null,
      "outputs": [
        {
          "output_type": "stream",
          "name": "stderr",
          "text": [
            "/usr/local/lib/python3.7/dist-packages/scipy/spatial/distance.py:720: RuntimeWarning: invalid value encountered in double_scalars\n",
            "  dist = 1.0 - uv / np.sqrt(uu * vv)\n"
          ]
        },
        {
          "output_type": "execute_result",
          "data": {
            "text/plain": [
              "[(0, 'Python', nan),\n",
              " (1, 'Time', nan),\n",
              " (2, 'string', 6.827845252488363e-05),\n",
              " (3, 'Time', nan),\n",
              " (4, 'line', 0.0)]"
            ]
          },
          "metadata": {},
          "execution_count": 148
        }
      ]
    },
    {
      "cell_type": "code",
      "metadata": {
        "id": "OQonbm4nMenD",
        "colab": {
          "base_uri": "https://localhost:8080/",
          "height": 84,
          "referenced_widgets": [
            "22cfe39b59284a3eb82f76d8a25bfe96",
            "0c34be4190c745bdb185661e3cfc5e8a",
            "5289b6f3e03a401b83f14ed4de72b5ae",
            "ce3756c23def40c8ae5f9a80cb6bc5d3",
            "6a596c49012a414f9b22aa74591ddc08",
            "a773d4e720784ec2a40acedb8d2af80e",
            "37c24915f52b4d9ca73a9b3555a669c1",
            "e67b554ddfe3490d88d022f0fe6abbca",
            "c4e0ac8092404c1b8feb0849041d6370",
            "2c787d51a00046c3af0fd30c2af83b53",
            "551ce2f39b3c4773872f349089522e17"
          ]
        },
        "outputId": "30807c0a-4906-4101-850e-62fd329939c4"
      },
      "source": [
        "#vibo: ранжируем строки из validation_data с применением обученного embeddings_trained \n",
        "from tqdm.notebook import tqdm\n",
        "import numpy as np\n",
        "import scipy.spatial.distance as ds\n",
        "\n",
        "wv_ranking = []\n",
        "max_validation_examples = 1000\n",
        "for i, line in enumerate(tqdm(validation_data)):\n",
        "    if i == max_validation_examples:\n",
        "        break\n",
        "    q, *ex = line\n",
        "    ranks = rank_candidates(q, ex, embeddings_trained, base_tokenizer)\n",
        "    wv_ranking.append([r[0] for r in ranks].index(0) + 1)"
      ],
      "execution_count": 52,
      "outputs": [
        {
          "output_type": "display_data",
          "data": {
            "text/plain": [
              "  0%|          | 0/3760 [00:00<?, ?it/s]"
            ],
            "application/vnd.jupyter.widget-view+json": {
              "version_major": 2,
              "version_minor": 0,
              "model_id": "22cfe39b59284a3eb82f76d8a25bfe96"
            }
          },
          "metadata": {}
        },
        {
          "output_type": "stream",
          "name": "stderr",
          "text": [
            "/usr/local/lib/python3.7/dist-packages/scipy/spatial/distance.py:720: RuntimeWarning: invalid value encountered in double_scalars\n",
            "  dist = 1.0 - uv / np.sqrt(uu * vv)\n"
          ]
        }
      ]
    },
    {
      "cell_type": "code",
      "source": [
        "#vibo: embeddings_trained если включаю фильтр nan в rank_candidates на cos_dist то из 1000 остается 997 строк \n",
        "#vibo: (т.е. три эксперимента не корректные), при этом одна из этих трех строк наша q+ с base-line код ломается\n",
        "#vibo: предложение q+ получается нулевым, если в нем не нашлось ни одного слова из словаря.\n",
        "#vibo: три битых резульата из 1000 не так страшно. на будущее нужно контролировать количество нулевых строк.\n",
        "len(ranks)"
      ],
      "metadata": {
        "colab": {
          "base_uri": "https://localhost:8080/"
        },
        "id": "cqd-IDvVfk1E",
        "outputId": "35f5d706-3f81-4eb0-ad70-b0326e8547cc"
      },
      "execution_count": 53,
      "outputs": [
        {
          "output_type": "execute_result",
          "data": {
            "text/plain": [
              "1000"
            ]
          },
          "metadata": {},
          "execution_count": 53
        }
      ]
    },
    {
      "cell_type": "code",
      "source": [
        "#vibo: подсчет номеров\n",
        "from collections import Counter\n",
        "print(Counter(wv_ranking))"
      ],
      "metadata": {
        "colab": {
          "base_uri": "https://localhost:8080/"
        },
        "id": "b-5GJyCxr_R1",
        "outputId": "d6e13e77-d351-4747-a379-4148453a4314"
      },
      "execution_count": 54,
      "outputs": [
        {
          "output_type": "stream",
          "name": "stdout",
          "text": [
            "Counter({1: 189, 2: 48, 3: 33, 4: 19, 7: 17, 6: 15, 5: 13, 20: 13, 13: 11, 14: 11, 34: 11, 9: 11, 10: 11, 16: 9, 11: 9, 18: 8, 15: 8, 21: 8, 46: 8, 43: 8, 39: 7, 25: 7, 8: 7, 22: 7, 122: 7, 38: 7, 59: 7, 116: 6, 146: 6, 49: 6, 90: 6, 56: 6, 12: 6, 30: 6, 36: 6, 37: 6, 44: 6, 24: 6, 50: 5, 62: 5, 83: 5, 35: 5, 31: 5, 105: 5, 19: 5, 40: 5, 61: 5, 75: 5, 41: 5, 17: 5, 55: 5, 27: 5, 51: 4, 158: 4, 159: 4, 47: 4, 58: 4, 45: 4, 101: 4, 54: 4, 64: 4, 78: 4, 80: 4, 23: 4, 42: 4, 112: 4, 32: 4, 57: 4, 104: 4, 100: 4, 28: 4, 106: 4, 48: 4, 71: 4, 29: 4, 79: 3, 170: 3, 215: 3, 125: 3, 238: 3, 181: 3, 96: 3, 66: 3, 60: 3, 92: 3, 114: 3, 97: 3, 87: 3, 73: 3, 210: 3, 76: 3, 127: 3, 26: 3, 199: 3, 33: 3, 53: 3, 81: 3, 124: 3, 68: 3, 113: 3, 119: 3, 162: 3, 118: 3, 197: 3, 163: 3, 95: 2, 175: 2, 70: 2, 168: 2, 165: 2, 85: 2, 63: 2, 154: 2, 283: 2, 130: 2, 242: 2, 94: 2, 143: 2, 82: 2, 173: 2, 103: 2, 164: 2, 156: 2, 99: 2, 227: 2, 117: 2, 218: 2, 187: 2, 147: 2, 109: 2, 179: 2, 174: 2, 128: 2, 133: 2, 149: 2, 84: 2, 65: 2, 180: 2, 297: 2, 178: 2, 52: 2, 110: 2, 184: 2, 148: 2, 115: 2, 140: 2, 255: 2, 111: 2, 67: 2, 172: 2, 264: 1, 371: 1, 91: 1, 275: 1, 300: 1, 144: 1, 323: 1, 380: 1, 161: 1, 207: 1, 225: 1, 107: 1, 231: 1, 153: 1, 195: 1, 230: 1, 192: 1, 182: 1, 252: 1, 209: 1, 352: 1, 86: 1, 319: 1, 185: 1, 135: 1, 177: 1, 121: 1, 208: 1, 236: 1, 150: 1, 344: 1, 267: 1, 240: 1, 190: 1, 314: 1, 353: 1, 221: 1, 145: 1, 361: 1, 263: 1, 131: 1, 138: 1, 139: 1, 126: 1, 69: 1, 224: 1, 340: 1, 102: 1, 193: 1, 534: 1, 239: 1, 89: 1, 234: 1, 292: 1, 108: 1, 476: 1, 214: 1, 186: 1, 98: 1, 134: 1, 196: 1, 332: 1, 137: 1, 74: 1, 315: 1, 188: 1, 203: 1, 189: 1, 364: 1, 123: 1, 248: 1, 202: 1, 176: 1, 151: 1, 341: 1, 281: 1, 229: 1, 155: 1, 88: 1, 160: 1, 260: 1, 310: 1, 198: 1})\n"
          ]
        }
      ]
    },
    {
      "cell_type": "code",
      "metadata": {
        "id": "3kahBUPGMgGR",
        "colab": {
          "base_uri": "https://localhost:8080/",
          "height": 153,
          "referenced_widgets": [
            "5621d0dacb10486ab9112b34fe28d210",
            "4e3272b835944ae2995717e3a9d40777",
            "830f7c6eec734061b6a970791c67994a",
            "c6938d44a0314bd1aae0d30ffa904149",
            "67f2708ab9c344b2827e6124834bc853",
            "ab9b91b1debf4ddab2169e03e8504378",
            "3d53803295af40a394a903dcbbc846df",
            "315e0a16b6c442c7a0aee5838161809d",
            "e63483750eb84e339817b79805aec72d",
            "4f2c071a1a9446348246e27d452fd331",
            "68dd6942716d417a8ffbadf20448ce75"
          ]
        },
        "outputId": "c6589fb1-afa0-4b61-fea8-5c8325529e28"
      },
      "source": [
        "for k in tqdm([1, 5, 10, 100, 500, 1000]):\n",
        "    print(\"DCG@%4d: %.3f | Hits@%4d: %.3f\" % (k, dcg_score(wv_ranking, k), k, hits_count(wv_ranking, k)))"
      ],
      "execution_count": 55,
      "outputs": [
        {
          "output_type": "display_data",
          "data": {
            "text/plain": [
              "  0%|          | 0/6 [00:00<?, ?it/s]"
            ],
            "application/vnd.jupyter.widget-view+json": {
              "version_major": 2,
              "version_minor": 0,
              "model_id": "5621d0dacb10486ab9112b34fe28d210"
            }
          },
          "metadata": {}
        },
        {
          "output_type": "stream",
          "name": "stdout",
          "text": [
            "DCG@   1: 0.189 | Hits@   1: 0.189\n",
            "DCG@   5: 0.249 | Hits@   5: 0.302\n",
            "DCG@  10: 0.269 | Hits@  10: 0.363\n",
            "DCG@ 100: 0.346 | Hits@ 100: 0.760\n",
            "DCG@ 500: 0.379 | Hits@ 500: 0.999\n",
            "DCG@1000: 0.379 | Hits@1000: 1.000\n"
          ]
        }
      ]
    },
    {
      "cell_type": "code",
      "source": [
        "#vibo: итого. результат сильно хуже, чем с предобученными эмбедингами.\n",
        "#vibo: при фиксированном min_count=5 с ростом window метрики улучшаются, при window=5 max, потом ухудшаются\n",
        "#vibo: прификсированном window=5, с при уменьшении min_count до 3 метрики ухудшаются,\n",
        "#vibo:при увеличении до min_count=6 незначительно увеличиваются\n",
        "#vibo: на данный момент оптимальные параметры min_count=5, window=5\n",
        "\n",
        "#vibo: пробовал другой токенайзер (WordPunctTokenizer) не помог, метрики ухудшились\n",
        "# '''\n",
        "# Параметры Word2Vec:\n",
        "#                       min_count=5\n",
        "#                       window=5\n",
        "# Результаты:\n",
        "\n",
        "# DCG@   1: 0.108 | Hits@   1: 0.108\n",
        "# DCG@   5: 0.138 | Hits@   5: 0.166\n",
        "# DCG@  10: 0.152 | Hits@  10: 0.208\n",
        "# DCG@ 100: 0.204 | Hits@ 100: 0.478\n",
        "# DCG@ 500: 0.261 | Hits@ 500: 0.918\n",
        "# DCG@1000: 0.269 | Hits@1000: 1.000\n",
        "# '''"
      ],
      "metadata": {
        "id": "6g3Z6PNl9L6l"
      },
      "execution_count": null,
      "outputs": []
    },
    {
      "cell_type": "markdown",
      "metadata": {
        "id": "tY8PxB0j-ThG"
      },
      "source": [
        "### Замечание:\n",
        "Решить эту задачу с помощью обучения полноценной нейронной сети будет вам предложено, как часть задания в одной из домашних работ по теме \"Диалоговые системы\"."
      ]
    },
    {
      "cell_type": "markdown",
      "metadata": {
        "id": "vymVj8IxO2PO"
      },
      "source": [
        "Напишите свой вывод о полученных результатах.\n",
        "* Какой принцип токенизации даёт качество лучше и почему?\n",
        "* Помогает ли нормализация слов?\n",
        "* Какие эмбеддинги лучше справляются с задачей и почему?\n",
        "* Почему получилось плохое качество решения задачи?\n",
        "* Предложите свой подход к решению задачи.\n",
        "\n",
        "## Вывод:\n"
      ]
    },
    {
      "cell_type": "markdown",
      "metadata": {
        "id": "emODHztAQUQz"
      },
      "source": [
        "vibo:\n",
        "* Какой принцип токенизации даёт качество лучше и почему? - **токенизация по словам**;\n",
        "* Помогает ли нормализация слов? - **да, стемминг улучшил метрики в большей степени, лемминг в меньшей**;\n",
        "* Какие эмбеддинги лучше справляются с задачей и почему? - **предобученные (т.к. получены на большей обучающей выборке)**;\n",
        "* Почему получилось плохое качество решения задачи? - **небольшой набор обучающей выборки, нужны более сложные модели**;\n",
        "* Предложите свой подход к решению  - **увеличить объем обучающей выборки, использовать для обучения полноценную нс**."
      ]
    },
    {
      "cell_type": "code",
      "source": [
        "#vibo: Виталий_Бочаров_stepik_id_56089805, telegram(@VitaliyBocharov)\n",
        "#26.03.2022"
      ],
      "metadata": {
        "id": "cKVQAkEAACQj"
      },
      "execution_count": null,
      "outputs": []
    }
  ]
}